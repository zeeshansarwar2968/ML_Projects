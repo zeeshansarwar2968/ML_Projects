{
 "cells": [
  {
   "cell_type": "markdown",
   "metadata": {},
   "source": [
    "# NumPy ProblemSet"
   ]
  },
  {
   "cell_type": "code",
   "execution_count": 1,
   "metadata": {},
   "outputs": [],
   "source": [
    "# Intial code : Please execute this block before running any other codeblock\n",
    "import numpy as np\n",
    "import datetime"
   ]
  },
  {
   "cell_type": "markdown",
   "metadata": {},
   "source": [
    "# Question 1. \n",
    "> Write a Python program to convert a list of numeric value into a one-dimensional NumPy array.\n",
    "> Expected Output:\n",
    "> Original List: [12.23, 13.32, 100, 36.32]\n",
    "> One-dimensional numpy array: [ 12.23 13.32 100. 36.32]"
   ]
  },
  {
   "cell_type": "code",
   "execution_count": 3,
   "metadata": {},
   "outputs": [
    {
     "name": "stdout",
     "output_type": "stream",
     "text": [
      "Original-list : [12.23, 13.32, 100, 36.32]\n",
      "One-dimensional numpy array : [ 12.23  13.32 100.    36.32]\n",
      "Executed successfully on 2022-07-11 09:34:49.098786\n"
     ]
    }
   ],
   "source": [
    "try:\n",
    "    Original_list = [12.23, 13.32, 100, 36.32]\n",
    "    print(f\"Original-list : {Original_list}\")\n",
    "\n",
    "    numpy_array = np.array(Original_list)\n",
    "    print(f\"One-dimensional numpy array : {numpy_array}\")\n",
    "except Exception as e:\n",
    "    print(f\"Error : {e}\")\n",
    "else:\n",
    "    print(f\"Executed successfully on {datetime.datetime.now()}\")"
   ]
  },
  {
   "cell_type": "markdown",
   "metadata": {},
   "source": [
    "# Question 2. \n",
    "> Create a 3x3 matrix with values ranging from 2 to 10.\n",
    "> Expected Output:\n",
    "> [[ 2 3 4]\n",
    "> [ 5 6 7]\n",
    "> [ 8 9 10]]"
   ]
  },
  {
   "cell_type": "code",
   "execution_count": 5,
   "metadata": {},
   "outputs": [
    {
     "name": "stdout",
     "output_type": "stream",
     "text": [
      "[[ 2  3  4]\n",
      " [ 5  6  7]\n",
      " [ 8  9 10]]\n",
      "Executed successfully on 2022-07-11 09:36:55.843597\n"
     ]
    }
   ],
   "source": [
    "try:\n",
    "    d = np.linspace(2, 10, 9, dtype=np.int64)\n",
    "    d.shape = (3, 3)\n",
    "    print(d)\n",
    "except Exception as e:\n",
    "    print(f\"Error : {e}\")\n",
    "else:\n",
    "    print(f\"Executed successfully on {datetime.datetime.now()}\")"
   ]
  },
  {
   "cell_type": "markdown",
   "metadata": {},
   "source": [
    "# Question 3. \n",
    "Write a Python program to create a null vector of size 10 and update sixth value to 11. \\\n",
    "[ 0. 0. 0. 0. 0. 0. 0. 0. 0. 0.] \\\n",
    "Update sixth value to 11 \\\n",
    "[ 0. 0. 0. 0. 0. 0. 11. 0. 0. 0.] "
   ]
  },
  {
   "cell_type": "code",
   "execution_count": 6,
   "metadata": {},
   "outputs": [
    {
     "name": "stdout",
     "output_type": "stream",
     "text": [
      "Original Vector : \n",
      "[0. 0. 0. 0. 0. 0. 0. 0. 0. 0.]\n",
      "Update sixth value to 11 : \n",
      "[ 0.  0.  0.  0.  0.  0. 11.  0.  0.  0.]\n",
      "Executed successfully on 2022-07-11 12:26:55.187306\n"
     ]
    }
   ],
   "source": [
    "try:\n",
    "    null_vector = np.zeros(10)\n",
    "    print(f\"Original Vector : \\n{null_vector}\")\n",
    "    null_vector[6] = 11\n",
    "    print(f\"Update sixth value to 11 : \\n{null_vector}\")\n",
    "except Exception as e:\n",
    "    print(f\"Error : {e}\")\n",
    "else:\n",
    "    print(f\"Executed successfully on {datetime.datetime.now()}\")"
   ]
  },
  {
   "cell_type": "markdown",
   "metadata": {},
   "source": [
    "# Question 4. \n",
    "> Write a Python program to reverse an array (first element becomes last). \\\n",
    "> Original array: \\\n",
    "> [12 13 14 15 16 17 18 19 20 21 22 23 24 25 26 27 28 29 30 31 32 33 34 35 36 37] \\\n",
    "> Reverse array: \\\n",
    "> [37 36 35 34 33 32 31 30 29 28 27 26 25 24 23 22 21 20 19 18 17 16 15 14 13 12]"
   ]
  },
  {
   "cell_type": "code",
   "execution_count": 7,
   "metadata": {},
   "outputs": [
    {
     "name": "stdout",
     "output_type": "stream",
     "text": [
      "[12 13 14 15 16 17 18 19 20 21 22 23 24 25 26 27 28 29 30 31 32 33 34 35\n",
      " 36 37]\n",
      "[37 36 35 34 33 32 31 30 29 28 27 26 25 24 23 22 21 20 19 18 17 16 15 14\n",
      " 13 12]\n",
      "Executed successfully on 2022-07-11 12:28:38.001579\n"
     ]
    }
   ],
   "source": [
    "try:\n",
    "    d = np.linspace(12, 37, 38-12, dtype=np.int64)\n",
    "    # d.shape = (3, 3)\n",
    "    print(d)\n",
    "    reverse_d = d[::-1]\n",
    "    print(reverse_d)\n",
    "except Exception as e:\n",
    "    print(f\"Error : {e}\")\n",
    "else:\n",
    "    print(f\"Executed successfully on {datetime.datetime.now()}\")"
   ]
  },
  {
   "cell_type": "markdown",
   "metadata": {},
   "source": [
    "# Question 5. \n",
    "> Write a Python program to create a 2d array with 1 on the border and 0 inside. \\\n",
    "> Expected Output: \\\n",
    "> Original array: \\\n",
    "> [[ 1. 1. 1. 1. 1.]\\\n",
    "> [ 1. 1. 1. 1. 1.]\\\n",
    "> [ 1. 1. 1. 1. 1.]\\\n",
    "> [ 1. 1. 1. 1. 1.]\\\n",
    "> [ 1. 1. 1. 1. 1.]]\\\n",
    "> 1 on the border and 0 inside in the array\\\n",
    "> [[ 1. 1. 1. 1. 1.]\\\n",
    "> [ 1. 0. 0. 0. 1.]\\\n",
    "> [ 1. 0. 0. 0. 1.]\\\n",
    "> [ 1. 0. 0. 0. 1.]\\\n",
    "> [ 1. 1. 1. 1. 1.]]\\"
   ]
  },
  {
   "cell_type": "code",
   "execution_count": 9,
   "metadata": {},
   "outputs": [
    {
     "name": "stdout",
     "output_type": "stream",
     "text": [
      "Original array : \n",
      "[[1. 1. 1. 1. 1.]\n",
      " [1. 1. 1. 1. 1.]\n",
      " [1. 1. 1. 1. 1.]\n",
      " [1. 1. 1. 1. 1.]\n",
      " [1. 1. 1. 1. 1.]]\n",
      "1 on the border and 0 inside in the array : \n",
      "[[1. 1. 1. 1. 1.]\n",
      " [1. 0. 0. 0. 1.]\n",
      " [1. 0. 0. 0. 1.]\n",
      " [1. 0. 0. 0. 1.]\n",
      " [1. 1. 1. 1. 1.]]\n",
      "Executed successfully on 2022-07-11 12:32:38.278226\n"
     ]
    }
   ],
   "source": [
    "try:\n",
    "    original_array = np.full((5,5), 1, dtype=float)\n",
    "    output_array = original_array.copy()\n",
    "    output_array[1:-1, 1:-1] = 0\n",
    "    print(f\"Original array : \\n{original_array}\")\n",
    "    print(f\"1 on the border and 0 inside in the array : \\n{output_array}\")\n",
    "except Exception as e:\n",
    "    print(f\"Error : {e}\")\n",
    "else:\n",
    "    print(f\"Executed successfully on {datetime.datetime.now()}\")"
   ]
  },
  {
   "cell_type": "markdown",
   "metadata": {},
   "source": [
    "# Question 6. \n",
    "> Write a Python program to add a border (filled with 0's) around an existing array. \\\n",
    "> Expected Output: \\\n",
    "> Original array:\\\n",
    "> [[ 1. 1. 1.]\\\n",
    "> [ 1. 1. 1.]\\\n",
    "> [ 1. 1. 1.]]\\\n",
    "> 1 on the border and 0 inside in the array\\\n",
    "> [[ 0. 0. 0. 0. 0.]\\\n",
    "> [ 0. 1. 1. 1. 0.]\\\n",
    "> [ 0. 1. 1. 1. 0.]\\\n",
    "> [ 0. 1. 1. 1. 0.]\\\n",
    "> [ 0. 0. 0. 0. 0.]]"
   ]
  },
  {
   "cell_type": "code",
   "execution_count": 10,
   "metadata": {},
   "outputs": [],
   "source": [
    "# method 01\n",
    "def add_borders_1(array_data):\n",
    "    \"\"\"\n",
    "    1 on the border and 0 inside in the array\n",
    "    Args:\n",
    "        array_data (_type_): ndArray of order nxm\n",
    "    \"\"\"\n",
    "    output_array = np.resize(array_data, (5, 5))\n",
    "    output_array[0:-1, 0] = 0\n",
    "    output_array[0:-1, -1] = 0\n",
    "    output_array[0,:] = 0\n",
    "    output_array[-1,:] = 0\n",
    "    return output_array\n",
    "    \n",
    "\n",
    "# method 02\n",
    "def add_borders_2(array_data):\n",
    "    \"\"\"\n",
    "    1 on the border and 0 inside in the array\n",
    "    Args:\n",
    "        array_data (_type_): ndArray of order nxm\n",
    "    \"\"\"\n",
    "    return np.pad(array_data, pad_width=1, mode=\"constant\", constant_values=0)"
   ]
  },
  {
   "cell_type": "code",
   "execution_count": 11,
   "metadata": {},
   "outputs": [
    {
     "name": "stdout",
     "output_type": "stream",
     "text": [
      "\n",
      "----------------------------------------------\n",
      "\n",
      "add_borders_method_01 : \n",
      "[[0. 0. 0. 0. 0.]\n",
      " [0. 1. 1. 1. 0.]\n",
      " [0. 1. 1. 1. 0.]\n",
      " [0. 1. 1. 1. 0.]\n",
      " [0. 0. 0. 0. 0.]]\n",
      "\n",
      "----------------------------------------------\n",
      "\n",
      "add_borders_method_02 : \n",
      "[[0. 0. 0. 0. 0.]\n",
      " [0. 1. 1. 1. 0.]\n",
      " [0. 1. 1. 1. 0.]\n",
      " [0. 1. 1. 1. 0.]\n",
      " [0. 0. 0. 0. 0.]]\n",
      "\n",
      "----------------------------------------------\n",
      "\n",
      "Executed successfully on 2022-07-11 12:36:19.193941\n"
     ]
    }
   ],
   "source": [
    "try:\n",
    "    original_array = np.ones((3,3), dtype=float)\n",
    "    print(f\"\\n----------------------------------------------\\n\")\n",
    "    print(f\"add_borders_method_01 : \\n{add_borders_1(original_array)}\")\n",
    "    print(f\"\\n----------------------------------------------\\n\")\n",
    "    print(f\"add_borders_method_02 : \\n{add_borders_2(original_array)}\")\n",
    "    print(f\"\\n----------------------------------------------\\n\")\n",
    "except Exception as e:\n",
    "    print(f\"Error : {e}\")\n",
    "else:\n",
    "    print(f\"Executed successfully on {datetime.datetime.now()}\")"
   ]
  },
  {
   "cell_type": "markdown",
   "metadata": {},
   "source": [
    "# Question 7. \n",
    "> Write a Python program to create a 8x8 matrix and fill it with a checkerboard pattern.\\\n",
    "> Checkerboard pattern:\\\n",
    "> [[0 1 0 1 0 1 0 1]\\\n",
    "> [1 0 1 0 1 0 1 0]\\\n",
    "> [0 1 0 1 0 1 0 1]\\\n",
    "> [1 0 1 0 1 0 1 0]\\\n",
    "> [0 1 0 1 0 1 0 1]\\\n",
    "> [1 0 1 0 1 0 1 0]\\\n",
    "> [0 1 0 1 0 1 0 1]\\\n",
    "> [1 0 1 0 1 0 1 0]]"
   ]
  },
  {
   "cell_type": "code",
   "execution_count": 12,
   "metadata": {},
   "outputs": [],
   "source": [
    "def checkerboard_pattern(data_array):\n",
    "    \"\"\"_summary_\n",
    "\n",
    "    Args:\n",
    "        data_array (_type_): _description_\n",
    "\n",
    "    Returns:\n",
    "        _type_: _description_\n",
    "    \"\"\"\n",
    "    temp = data_array.copy()\n",
    "    temp[1::2, ::2] = 1\n",
    "    temp[::2, 1::2] = 1\n",
    "    return temp"
   ]
  },
  {
   "cell_type": "code",
   "execution_count": 14,
   "metadata": {},
   "outputs": [
    {
     "name": "stdout",
     "output_type": "stream",
     "text": [
      "[[0 1 0 1 0 1 0 1]\n",
      " [1 0 1 0 1 0 1 0]\n",
      " [0 1 0 1 0 1 0 1]\n",
      " [1 0 1 0 1 0 1 0]\n",
      " [0 1 0 1 0 1 0 1]\n",
      " [1 0 1 0 1 0 1 0]\n",
      " [0 1 0 1 0 1 0 1]\n",
      " [1 0 1 0 1 0 1 0]]\n",
      "Executed successfully on 2022-07-11 12:39:16.923545\n"
     ]
    }
   ],
   "source": [
    "try:\n",
    "    base_array = np.zeros((8,8), dtype=int)\n",
    "    #print(base_array)\n",
    "    final_array_1 = checkerboard_pattern(base_array)\n",
    "    print(final_array_1)\n",
    "except Exception as e:\n",
    "    print(f\"Error : {e}\")\n",
    "else:\n",
    "    print(f\"Executed successfully on {datetime.datetime.now()}\")"
   ]
  },
  {
   "cell_type": "markdown",
   "metadata": {},
   "source": [
    "# Question 8. \n",
    "> Write a Python program to convert a list and tuple into arrays.\\\n",
    "> List to array:\\\n",
    "> [1 2 3 4 5 6 7 8]\\\n",
    "> Tuple to array:\\\n",
    "> [[8 4 6]\\\n",
    "> [1 2 3]]"
   ]
  },
  {
   "cell_type": "code",
   "execution_count": 15,
   "metadata": {},
   "outputs": [
    {
     "name": "stdout",
     "output_type": "stream",
     "text": [
      "List to Array conversion : [1 2 3 4 5 6 7 8] and type of data : <class 'numpy.ndarray'> and shape of data : (8,)\n",
      "Tuple to Array conversion : [[8 4 6]\n",
      " [1 2 3]] and type of data : <class 'numpy.ndarray'> and shape of data : (2, 3)\n",
      "Executed successfully on 2022-07-11 12:47:58.906417\n"
     ]
    }
   ],
   "source": [
    "def to_array(array_data):\n",
    "    \"\"\"_summary_\n",
    "\n",
    "    Args:\n",
    "        array_data (_type_): _description_\n",
    "    \"\"\"\n",
    "    return np.array(array_data)\n",
    "\n",
    "try:\n",
    "    list_data = [i for i in range(1,9)]\n",
    "    list_to_array = to_array(list_data)\n",
    "    print(f\"List to Array conversion : {list_to_array} and type of data : {type(list_to_array)} and shape of data : {list_to_array.shape}\")\n",
    "    tuple_data = ([8, 4, 6], [1, 2, 3])\n",
    "    tuple_to_array = to_array(tuple_data)\n",
    "    print(f\"Tuple to Array conversion : {tuple_to_array} and type of data : {type(tuple_to_array)} and shape of data : {tuple_to_array.shape}\")\n",
    "except Exception as e:\n",
    "    print(f\"Error : {e}\")\n",
    "else:\n",
    "    print(f\"Executed successfully on {datetime.datetime.now()}\")"
   ]
  },
  {
   "cell_type": "markdown",
   "metadata": {},
   "source": [
    "# Question 9. \n",
    "> Write a Python program to append values to the end of an array.\\\n",
    "> Expected Output:\\\n",
    "> Original array:\\\n",
    "> [10, 20, 30]\\\n",
    "> After append values to the end of the array:\\\n",
    "> [10 20 30 40 50 60 70 80 90]"
   ]
  },
  {
   "cell_type": "code",
   "execution_count": 17,
   "metadata": {},
   "outputs": [
    {
     "name": "stdout",
     "output_type": "stream",
     "text": [
      "\n",
      "---------------------------------\n",
      "\n",
      "Original array : \n",
      " [10 20 30]\n",
      "\n",
      "---------------------------------\n",
      "\n",
      "After append values to the end of the array: \n",
      " [10 20 30 40 50 60 70 80 90]\n",
      "\n",
      "---------------------------------\n",
      "\n",
      "Executed successfully on 2022-07-11 12:51:38.561388\n"
     ]
    }
   ],
   "source": [
    "try:\n",
    "    original_array = np.array([10, 20, 30])\n",
    "    print(\"\\n---------------------------------\\n\")\n",
    "    print(\"Original array : \\n\",original_array)\n",
    "    print(\"\\n---------------------------------\\n\")\n",
    "    final_array = np.append(original_array, [40, 50 ,60, 70, 80, 90])\n",
    "    # original_array.append(np.array([40, 50, 60]))\n",
    "    print(\"After append values to the end of the array: \\n\",final_array)\n",
    "    print(\"\\n---------------------------------\\n\")\n",
    "except Exception as e:\n",
    "    print(f\"Error : {e}\")\n",
    "else:\n",
    "    print(f\"Executed successfully on {datetime.datetime.now()}\")"
   ]
  },
  {
   "cell_type": "markdown",
   "metadata": {},
   "source": [
    "# Question 10. \n",
    "> Write a Python program to find the real and imaginary parts of an array of complex\\\n",
    "> numbers.\\\n",
    "> Expected Output:\\\n",
    "> Original array [ 1.00000000+0.j 0.70710678+0.70710678j]\\\n",
    "> Real part of the array:\\\n",
    "> [ 1. 0.70710678]\\\n",
    "> Imaginary part of the array:\\\n",
    "> [ 0. 0.70710678]"
   ]
  },
  {
   "cell_type": "code",
   "execution_count": 18,
   "metadata": {},
   "outputs": [
    {
     "name": "stdout",
     "output_type": "stream",
     "text": [
      "\n",
      "-----------------------------------------------\n",
      "\n",
      "The original array is :  [1.        +0.j         0.70710678+0.70710678j]\n",
      "The real parts of the array are : [1.         0.70710678]\n",
      "The imaginary parts of the array are : [0.         0.70710678]\n",
      "\n",
      "-----------------------------------------------\n",
      "\n",
      "Executed successfully on 2022-07-11 12:53:21.346591\n"
     ]
    }
   ],
   "source": [
    "try:\n",
    "    Original_array = np.array([ 1.00000000+0.j, 0.70710678+0.70710678j])\n",
    "    print(\"\\n-----------------------------------------------\\n\")\n",
    "    print(\"The original array is : \",Original_array)\n",
    "    print(f\"The real parts of the array are : {Original_array.real}\")\n",
    "    print(f\"The imaginary parts of the array are : {Original_array.imag}\")\n",
    "    print(\"\\n-----------------------------------------------\\n\")\n",
    "except Exception as e:\n",
    "    print(f\"Error : {e}\")\n",
    "else:\n",
    "    print(f\"Executed successfully on {datetime.datetime.now()}\")"
   ]
  },
  {
   "cell_type": "markdown",
   "metadata": {},
   "source": [
    "# Question 11. \n",
    "> Write a Python program to find the number of elements of an array, length of one\\\n",
    "> array element in bytes and total bytes consumed by the elements.\\\n",
    "> Expected Output:\\\n",
    "> Size of the array: 3\\\n",
    "> Length of one array element in bytes: 8\\\n",
    "> Total bytes consumed by the elements of the array: 24"
   ]
  },
  {
   "cell_type": "code",
   "execution_count": 19,
   "metadata": {},
   "outputs": [
    {
     "name": "stdout",
     "output_type": "stream",
     "text": [
      "\n",
      "------------------------------------------\n",
      "\n",
      "Size of the array:  3\n",
      "Length of one array element in bytes:  8\n",
      "Total bytes consumed by the elements of the array:  24\n",
      "\n",
      "------------------------------------------\n",
      "\n",
      "Executed successfully on 2022-07-11 12:54:59.870312\n"
     ]
    }
   ],
   "source": [
    "try:\n",
    "    demo_list = list(range(101,104))\n",
    "    original_array = np.array(demo_list, dtype=np.float64)\n",
    "    print(\"\\n------------------------------------------\\n\")\n",
    "    print(\"Size of the array: \", original_array.size)\n",
    "    print(\"Length of one array element in bytes: \", original_array.itemsize)\n",
    "    print(\"Total bytes consumed by the elements of the array: \", original_array.nbytes)\n",
    "    print(\"\\n------------------------------------------\\n\")\n",
    "except Exception as e:\n",
    "    print(\"Error : \",e)\n",
    "else:\n",
    "    print(f\"Executed successfully on {datetime.datetime.now()}\")"
   ]
  },
  {
   "cell_type": "markdown",
   "metadata": {},
   "source": [
    "# Question 12. \n",
    "> Write a Python program to find common values between two arrays.\\\n",
    "> Expected Output:\\\n",
    "> Array1: [ 0 10 20 40 60]\\\n",
    "> Array2: [10, 30, 40]\\\n",
    "> Common values between two arrays:\\\n",
    "> [10 40]"
   ]
  },
  {
   "cell_type": "code",
   "execution_count": 21,
   "metadata": {},
   "outputs": [
    {
     "name": "stdout",
     "output_type": "stream",
     "text": [
      "\n",
      "--------------------------------------\n",
      "\n",
      "Array1 : [ 0 10 20 40 60]\n",
      "Array2 : [10 30 40]\n",
      "Common values between two arrays: \n",
      "[10 40]\n",
      "\n",
      "--------------------------------------\n",
      "\n",
      "Executed successfully on 2022-07-11 12:58:53.235451\n"
     ]
    }
   ],
   "source": [
    "def common_values(array_data1, array_data2):\n",
    "    return np.intersect1d(array_data1, array_data2)\n",
    "\n",
    "\n",
    "try:\n",
    "    array1 = np.array([0, 10, 20, 40, 60])\n",
    "    array2 = np.array([10, 30, 40])\n",
    "    print(\"\\n--------------------------------------\\n\")\n",
    "    print(f\"Array1 : {array1}\")\n",
    "    print(f\"Array2 : {array2}\")\n",
    "    common_array = common_values(array1, array2)\n",
    "    print(f\"Common values between two arrays: \\n{common_array}\")\n",
    "    print(\"\\n--------------------------------------\\n\")\n",
    "except Exception as e:\n",
    "    print(f\"Error : {e}\")\n",
    "else:\n",
    "    print(f\"Executed successfully on {datetime.datetime.now()}\")"
   ]
  },
  {
   "cell_type": "markdown",
   "metadata": {},
   "source": [
    "# Question 13. \n",
    "> Write a Python program to find the set difference of two arrays. The set difference\\\n",
    "> will return the sorted, unique values in array1 that are not in array2.\\\n",
    "> Expected Output:\\\n",
    "> Array1: [ 0 10 20 40 60 80]\\\n",
    "> Array2: [10, 30, 40, 50, 70, 90]\\\n",
    "> Set difference between two arrays: [ 0 20 60 80]"
   ]
  },
  {
   "cell_type": "code",
   "execution_count": 22,
   "metadata": {},
   "outputs": [
    {
     "name": "stdout",
     "output_type": "stream",
     "text": [
      "\n",
      "--------------------------------------\n",
      "\n",
      "Array1 : [ 0 10 20 40 60 80]\n",
      "Array2 : [10 30 40 50 70 90]\n",
      "Set difference between two arrays: [ 0 20 60 80]\n",
      "\n",
      "--------------------------------------\n",
      "\n",
      "Executed successfully on 2022-07-11 13:22:52.210617\n"
     ]
    }
   ],
   "source": [
    "def diff_values(array_data1, array_data2):\n",
    "    return np.setdiff1d(array_data1, array_data2)\n",
    "\n",
    "\n",
    "try:\n",
    "    array1 = np.array([0, 10, 20, 40, 60, 80])\n",
    "    array2 = np.array([10, 30, 40, 50, 70, 90])\n",
    "\n",
    "    print(\"\\n--------------------------------------\\n\")\n",
    "    print(f\"Array1 : {array1}\")\n",
    "    print(f\"Array2 : {array2}\")\n",
    "    common_array = diff_values(array1, array2)\n",
    "    print(f\"Set difference between two arrays: {common_array}\")\n",
    "    print(\"\\n--------------------------------------\\n\")\n",
    "except Exception as e:\n",
    "    print(f\"Error : {e}\")\n",
    "else:\n",
    "    print(f\"Executed successfully on {datetime.datetime.now()}\")"
   ]
  },
  {
   "cell_type": "markdown",
   "metadata": {},
   "source": [
    "# Question 14. \n",
    "> Write a Python program to find the set exclusive-or of two arrays. Set exclusive-or\\\n",
    "> will return the sorted, unique values that are in only one (not both) of the input arrays.\\\n",
    "> Array1: [ 0 10 20 40 60 80]\\\n",
    "> Array2: [10, 30, 40, 50, 70]\\\n",
    "> Unique values that are in only one (not both) of the input arrays:\\\n",
    "> [ 0 20 30 50 60 70 80]"
   ]
  },
  {
   "cell_type": "code",
   "execution_count": 23,
   "metadata": {},
   "outputs": [
    {
     "name": "stdout",
     "output_type": "stream",
     "text": [
      "\n",
      "--------------------------------------\n",
      "\n",
      "Array1 : [ 0 10 20 40 60 80]\n",
      "Array2 : [10 30 40 50 70]\n",
      "Unique values that are in only one (not both) of the input arrays: \n",
      "[ 0 20 30 50 60 70 80]\n",
      "\n",
      "--------------------------------------\n",
      "\n",
      "Executed successfully on 2022-07-11 14:37:01.964409\n"
     ]
    }
   ],
   "source": [
    "def exclusive_values(array_data1, array_data2):\n",
    "    return np.setxor1d(array_data1, array_data2)\n",
    "\n",
    "\n",
    "try:\n",
    "    array1 = np.array([0, 10, 20, 40, 60, 80])\n",
    "    array2 = np.array([10, 30, 40, 50, 70])\n",
    "\n",
    "    print(\"\\n--------------------------------------\\n\")\n",
    "    print(f\"Array1 : {array1}\")\n",
    "    print(f\"Array2 : {array2}\")\n",
    "    unique_array = np.setxor1d(array1, array2)\n",
    "    print(f\"Unique values that are in only one (not both) of the input arrays: \\n{unique_array}\")\n",
    "    print(\"\\n--------------------------------------\\n\")\n",
    "except Exception as e:\n",
    "    print(f\"Error : {e}\")\n",
    "else:\n",
    "    print(f\"Executed successfully on {datetime.datetime.now()}\")"
   ]
  },
  {
   "cell_type": "markdown",
   "metadata": {},
   "source": [
    "# Question 15. \n",
    "> Write a Python program compare two arrays using numpy.\\\n",
    "> Array a: [1 2]\\\n",
    "> Array b: [4 5]\\\n",
    "> a > b\\\n",
    "> [False False]\\\n",
    "> a >= b\\\n",
    "> [False False]\\\n",
    "> a < b\\\n",
    "> [ True True]\\\n",
    "> a <= b\\\n",
    "> [ True True] "
   ]
  },
  {
   "cell_type": "code",
   "execution_count": 24,
   "metadata": {},
   "outputs": [
    {
     "name": "stdout",
     "output_type": "stream",
     "text": [
      "\n",
      "----------------------------------\n",
      "\n",
      "Array a : [1 2]\n",
      "Array b : [4 5]\n",
      "a > b : \n",
      "[False False]\n",
      "a >= b : \n",
      "[False False]\n",
      "a < b : \n",
      "[ True  True]\n",
      "a <= b : \n",
      "[ True  True]\n",
      "\n",
      "----------------------------------\n",
      "\n",
      "Executed successfully on 2022-07-11 14:38:23.874467\n"
     ]
    }
   ],
   "source": [
    "try:\n",
    "    array_a = np.array([1, 2])\n",
    "    array_b = np.array([4, 5])\n",
    "    print(\"\\n----------------------------------\\n\")\n",
    "    print(f\"Array a : {array_a}\")\n",
    "    print(f\"Array b : {array_b}\")\n",
    "    print(f\"a > b : \\n{array_a > array_b}\")\n",
    "    print(f\"a >= b : \\n{array_a >= array_b}\")\n",
    "    print(f\"a < b : \\n{array_a < array_b}\")\n",
    "    print(f\"a <= b : \\n{array_a <= array_b}\")\n",
    "    print(\"\\n----------------------------------\\n\")\n",
    "    \n",
    "except Exception as e:\n",
    "    print(f\"Error : {e}\")\n",
    "else:\n",
    "    print(f\"Executed successfully on {datetime.datetime.now()}\")"
   ]
  },
  {
   "cell_type": "markdown",
   "metadata": {},
   "source": [
    "# Question 16. \n",
    "> Write a Python program to create a contiguous flattened array.\\\n",
    "> Original array:\\\n",
    "> [[10 20 30]\\\n",
    "> [20 40 50]]\\\n",
    "> New flattened array:\\\n",
    "> [10 20 30 20 40 50]"
   ]
  },
  {
   "cell_type": "code",
   "execution_count": 25,
   "metadata": {},
   "outputs": [
    {
     "name": "stdout",
     "output_type": "stream",
     "text": [
      "\n",
      "---------------------------------\n",
      "\n",
      "Original array : \n",
      "[[10 20 30]\n",
      " [20 40 50]]\n",
      "New Flattened array : \n",
      "[10 20 30 20 40 50]\n",
      "\n",
      "---------------------------------\n",
      "\n",
      "Executed successfully on 2022-07-11 14:51:36.656166\n"
     ]
    }
   ],
   "source": [
    "original_array = np.array([[10, 20, 30], [20, 40, 50]])\n",
    "try:\n",
    "    print(\"\\n---------------------------------\\n\")\n",
    "    print(f\"Original array : \\n{original_array}\")\n",
    "    flattened_array = np.ravel(original_array, order='C')\n",
    "    print(f\"New Flattened array : \\n{flattened_array}\")\n",
    "    print(\"\\n---------------------------------\\n\")\n",
    "    \n",
    "except Exception as e:\n",
    "    print(f\"Error : {e}\")\n",
    "else:\n",
    "    print(f\"Executed successfully on {datetime.datetime.now()}\")"
   ]
  },
  {
   "cell_type": "markdown",
   "metadata": {},
   "source": [
    "# Question 17. \n",
    "> Write a Python program to change the data type of an array.\\\n",
    "> Expected Output:\\\n",
    "> [[ 2 4 6]\\\n",
    "> [ 6 8 10]]\\\n",
    "> Data type of the array x is: int32\\\n",
    "> New Type: float64\\\n",
    "> [[ 2. 4. 6.]\\\n",
    "> [ 6. 8. 10.]]"
   ]
  },
  {
   "cell_type": "code",
   "execution_count": 26,
   "metadata": {},
   "outputs": [
    {
     "name": "stdout",
     "output_type": "stream",
     "text": [
      "\n",
      "---------------------------------\n",
      "\n",
      "Expected Output: \n",
      "[[ 2  4  6]\n",
      " [ 6  8 10]]\n",
      "Data type of the array x is: int32\n",
      "New Type: float64\n",
      "New array : \n",
      "[[ 2.  4.  6.]\n",
      " [ 6.  8. 10.]]\n",
      "\n",
      "---------------------------------\n",
      "\n",
      "Executed successfully on 2022-07-11 14:53:15.316084\n"
     ]
    }
   ],
   "source": [
    "original_array = np.array([[2, 4, 6], [6, 8, 10]])\n",
    "try:\n",
    "    print(\"\\n---------------------------------\\n\")\n",
    "    print(f\"Expected Output: \\n{original_array}\")\n",
    "    print(f\"Data type of the array x is: {original_array.dtype}\")\n",
    "    new_array = original_array.astype(np.float64)\n",
    "    print(f\"New Type: {new_array.dtype}\")\n",
    "    print(f\"New array : \\n{new_array}\")\n",
    "    print(\"\\n---------------------------------\\n\")\n",
    "    \n",
    "except Exception as e:\n",
    "    print(f\"Error : {e}\")\n",
    "else:\n",
    "    print(f\"Executed successfully on {datetime.datetime.now()}\")"
   ]
  },
  {
   "cell_type": "markdown",
   "metadata": {},
   "source": [
    "# Question 18. \n",
    "> Write a Python program to create a 3-D array with ones on a diagonal and zeros\\\n",
    "> elsewhere.\\\n",
    "> Expected Output:\\\n",
    "> [[ 1. 0. 0.]\\\n",
    "> [ 0. 1. 0.]\\\n",
    "> [ 0. 0. 1.]]"
   ]
  },
  {
   "cell_type": "code",
   "execution_count": 27,
   "metadata": {},
   "outputs": [
    {
     "name": "stdout",
     "output_type": "stream",
     "text": [
      "\n",
      "---------------------------------\n",
      "\n",
      "Expected Output: \n",
      "[[1. 0. 0.]\n",
      " [0. 1. 0.]\n",
      " [0. 0. 1.]]\n",
      "\n",
      "---------------------------------\n",
      "\n",
      "Executed successfully on 2022-07-11 14:55:34.736770\n"
     ]
    }
   ],
   "source": [
    "try:\n",
    "    identity_array = np.eye(3)\n",
    "    print(\"\\n---------------------------------\\n\")\n",
    "    print(f\"Expected Output: \\n{identity_array}\")\n",
    "    print(\"\\n---------------------------------\\n\")\n",
    "except Exception as e:\n",
    "    print(f\"Error : {e}\")\n",
    "else:\n",
    "    print(f\"Executed successfully on {datetime.datetime.now()}\")"
   ]
  },
  {
   "cell_type": "markdown",
   "metadata": {},
   "source": [
    "# Question 19. \n",
    "> Write a Python program to create an array which looks like below array.\\\n",
    "> Expected Output:\\\n",
    "> [[ 0. 0. 0.]\\\n",
    "> [ 1. 0. 0.]\\\n",
    "> [ 1. 1. 0.]\\\n",
    "> [ 1. 1. 1.]]"
   ]
  },
  {
   "cell_type": "code",
   "execution_count": 28,
   "metadata": {},
   "outputs": [
    {
     "name": "stdout",
     "output_type": "stream",
     "text": [
      "\n",
      "--------------------------------------\n",
      "\n",
      "Expected Output 1 : \n",
      "[[0. 0. 0.]\n",
      " [1. 0. 0.]\n",
      " [1. 1. 0.]\n",
      " [1. 1. 1.]]\n",
      "\n",
      "--------------------------------------\n",
      "\n",
      "Expected Output 2 : \n",
      "[[0. 0. 0.]\n",
      " [1. 0. 0.]\n",
      " [1. 1. 0.]\n",
      " [1. 1. 1.]]\n",
      "\n",
      "--------------------------------------\n",
      "\n",
      "Executed successfully on 2022-07-11 14:56:29.607014\n"
     ]
    }
   ],
   "source": [
    "try:\n",
    "    demo_array = np.zeros((4,3))\n",
    "    count = 1\n",
    "    while count<len(demo_array):\n",
    "        demo_array[count,:count] = 1\n",
    "        count +=1    \n",
    "    print(f\"\\n--------------------------------------\\n\")\n",
    "    print(f\"Expected Output 1 : \\n{demo_array}\")\n",
    "    print(f\"\\n--------------------------------------\\n\")\n",
    "    print(f\"Expected Output 2 : \\n{np.tri(4, 3, -1)}\")\n",
    "    print(f\"\\n--------------------------------------\\n\")    \n",
    "except Exception as e:\n",
    "    print(f\"Error : {e}\")\n",
    "else:\n",
    "    print(f\"Executed successfully on {datetime.datetime.now()}\")"
   ]
  },
  {
   "cell_type": "markdown",
   "metadata": {},
   "source": [
    "# Question 20. \n",
    "> Write a Python program to concatenate two 2-dimensional arrays.\\\n",
    "> Expected Output:\\\n",
    "> Sample arrays: ([[0, 1, 3], [5, 7, 9]], [[0, 2, 4], [6, 8, 10]]\\\n",
    "> Expected Output:\\\n",
    "> [[ 0 1 3 0 2 4]\\\n",
    "> [ 5 7 9 6 8 10]]"
   ]
  },
  {
   "cell_type": "code",
   "execution_count": 29,
   "metadata": {},
   "outputs": [
    {
     "name": "stdout",
     "output_type": "stream",
     "text": [
      "\n",
      "----------------------------\n",
      "\n",
      "Sample arrays: ([[0, 1, 3], [5, 7, 9]], [[0, 2, 4], [6, 8, 10]])\n",
      "\n",
      "----------------------------\n",
      "\n",
      "Expected Output 1 with axis 0 : \n",
      "[[ 0  1  3]\n",
      " [ 5  7  9]\n",
      " [ 0  2  4]\n",
      " [ 6  8 10]]\n",
      "Expected Output 2 with axis 1 : \n",
      "[[ 0  1  3  0  2  4]\n",
      " [ 5  7  9  6  8 10]]\n",
      "\n",
      "----------------------------\n",
      "\n",
      "Executed successfully on 2022-07-11 14:57:43.421487\n"
     ]
    }
   ],
   "source": [
    "array_a = np.array([[0, 1, 3], [5, 7, 9]])\n",
    "array_b = np.array([[0, 2, 4], [6, 8, 10]])\n",
    "\n",
    "try:\n",
    "    print(\"\\n----------------------------\\n\")\n",
    "    print(f\"Sample arrays: {array_a.tolist(), array_b.tolist()}\")\n",
    "    print(\"\\n----------------------------\\n\")\n",
    "    output_array_1 = np.concatenate([array_a, array_b], axis=0)\n",
    "    print(f\"Expected Output 1 with axis 0 : \\n{output_array_1}\")\n",
    "    output_array_2 = np.concatenate([array_a, array_b], axis=1)\n",
    "    print(f\"Expected Output 2 with axis 1 : \\n{output_array_2}\")\n",
    "    print(\"\\n----------------------------\\n\")\n",
    "except Exception as e:\n",
    "    print(\"Error : \",e)\n",
    "else:\n",
    "    print(f\"Executed successfully on {datetime.datetime.now()}\")"
   ]
  },
  {
   "cell_type": "markdown",
   "metadata": {},
   "source": [
    "# Question 21. \n",
    "> Write a Python program to make an array immutable (read-only).\\\n",
    "> Expected Output:\\\n",
    "> Test the array is read-only or not:\\\n",
    "> Try to change the value of the first element:\\\n",
    "> Traceback (most recent call last):\\\n",
    "> File \"19236bd0-0bd9-11e7-a232-c706d0968eb6.py\", line 6, in\\\n",
    "> x[0] = 1\\\n",
    "> ValueError: assignment destination is read-only"
   ]
  },
  {
   "cell_type": "code",
   "execution_count": 30,
   "metadata": {},
   "outputs": [
    {
     "name": "stdout",
     "output_type": "stream",
     "text": [
      "Test the array is read-only or not : \n",
      "Try to change the value of the first element : \n",
      "Error : assignment destination is read-only\n"
     ]
    }
   ],
   "source": [
    "try:\n",
    "    sample_array = np.array([21, 43, 13, 46])\n",
    "    sample_array.flags.writeable = False\n",
    "    print(f\"Test the array is read-only or not : \")\n",
    "    print(f\"Try to change the value of the first element : \")\n",
    "    sample_array[0] = 1\n",
    "except Exception as e:\n",
    "    print(f\"Error : {e}\")\n",
    "else:\n",
    "    print(f\"Executed successfully on {datetime.datetime.now()}\")"
   ]
  },
  {
   "cell_type": "markdown",
   "metadata": {},
   "source": [
    "# Question 22. \n",
    "> Write a Python program to create an array of (3, 4) shape, multiply every element\\\n",
    "> value by 3 and display the new array.\\\n",
    "> Expected Output:\\\n",
    "> Original array elements:\\\n",
    "> [[ 0 1 2 3]\\\n",
    "> [ 4 5 6 7]\\\n",
    "> [ 8 9 10 11]]\\\n",
    "> New array elements:\\\n",
    "> [[ 0 3 6 9]\\\n",
    "> [12 15 18 21]\\\n",
    "> [24 27 30 33]]"
   ]
  },
  {
   "cell_type": "code",
   "execution_count": 31,
   "metadata": {},
   "outputs": [
    {
     "name": "stdout",
     "output_type": "stream",
     "text": [
      "\n",
      "---------------------------------\n",
      "\n",
      "Original array elements : \n",
      "[[ 0  1  2  3]\n",
      " [ 4  5  6  7]\n",
      " [ 8  9 10 11]]\n",
      "\n",
      "---------------------------------\n",
      "\n",
      "New array elements : \n",
      "[[ 0  3  6  9]\n",
      " [12 15 18 21]\n",
      " [24 27 30 33]]\n",
      "\n",
      "---------------------------------\n",
      "\n",
      "Executed successfully on 2022-07-11 15:03:02.393682\n"
     ]
    }
   ],
   "source": [
    "try:\n",
    "    original_array = np.array(list(range(12)))\n",
    "    original_array = original_array.reshape(3,4) \n",
    "    print(\"\\n---------------------------------\\n\")\n",
    "    print(f\"Original array elements : \\n{original_array}\")\n",
    "    print(\"\\n---------------------------------\\n\")\n",
    "    multiplied_array = original_array * 3\n",
    "    print(f\"New array elements : \\n{multiplied_array}\")\n",
    "    print(\"\\n---------------------------------\\n\")\n",
    "except Exception as e:\n",
    "    print(\"Error : \",e)\n",
    "else:\n",
    "    print(f\"Executed successfully on {datetime.datetime.now()}\")"
   ]
  },
  {
   "cell_type": "markdown",
   "metadata": {},
   "source": [
    "# Question 23. \n",
    "> Write a Python program to convert a NumPy array into Python list structure.\\\n",
    "> Expected Output:\\\n",
    "> Original array elements:\\\n",
    "> [[0 1]\\\n",
    "> [2 3]\\\n",
    "> [4 5]]\\\n",
    "> Array to list:\\\n",
    "> [[0, 1], [2, 3], [4, 5]]"
   ]
  },
  {
   "cell_type": "code",
   "execution_count": 32,
   "metadata": {},
   "outputs": [
    {
     "name": "stdout",
     "output_type": "stream",
     "text": [
      "\n",
      "----------------------------\n",
      "\n",
      "Original array elements: \n",
      "[[0 1]\n",
      " [2 3]\n",
      " [4 5]]\n",
      "\n",
      "----------------------------\n",
      "\n",
      "Array to list : \n",
      "[[0, 1], [2, 3], [4, 5]]\n",
      "\n",
      "----------------------------\n",
      "\n",
      "Executed successfully on 2022-07-11 15:03:59.111270\n"
     ]
    }
   ],
   "source": [
    "original_array = np.array([[0, 1], [2, 3], [4, 5]])\n",
    "\n",
    "try:\n",
    "    print(\"\\n----------------------------\\n\")\n",
    "    print(f\"Original array elements: \\n{original_array}\")\n",
    "    print(\"\\n----------------------------\\n\")\n",
    "    print(f\"Array to list : \\n{original_array.tolist()}\")\n",
    "    print(\"\\n----------------------------\\n\")\n",
    "except Exception as e:\n",
    "    print(\"Error : \",e)\n",
    "else:\n",
    "    print(f\"Executed successfully on {datetime.datetime.now()}\")"
   ]
  },
  {
   "cell_type": "markdown",
   "metadata": {},
   "source": [
    "# Question 24. \n",
    "> Write a Python program to convert a NumPy array into Python list structure.\\\n",
    "> Expected Output:\\\n",
    "> Original array elements:\\\n",
    "> [ 0.26153123 0.52760141 0.5718299 0.5927067 0.7831874 0.69746349\\\n",
    "> 0.35399976 0.99469633 0.0694458 0.54711478]\\\n",
    "> Print array values with precision 3:\\\n",
    "> [ 0.262 0.528 0.572 0.593 0.783 0.697 0.354 0.995 0.069 0.547]"
   ]
  },
  {
   "cell_type": "code",
   "execution_count": 33,
   "metadata": {},
   "outputs": [
    {
     "name": "stdout",
     "output_type": "stream",
     "text": [
      "\n",
      "----------------------------\n",
      "\n",
      "Original array elements: \n",
      "[0.26153123 0.52760141 0.5718299  0.5927067  0.7831874  0.69746349\n",
      " 0.35399976 0.99469633 0.0694458  0.54711478]\n",
      "\n",
      "----------------------------\n",
      "\n",
      "Print array values with precision 3 : \n",
      "[0.262, 0.528, 0.572, 0.593, 0.783, 0.697, 0.354, 0.995, 0.069, 0.547]\n",
      "\n",
      "----------------------------\n",
      "\n",
      "Executed successfully on 2022-07-11 15:04:58.582510\n"
     ]
    }
   ],
   "source": [
    "original_array = np.array([ 0.26153123, 0.52760141, 0.5718299, 0.5927067, 0.7831874, 0.69746349, 0.35399976, 0.99469633, 0.0694458, 0.54711478])\n",
    "\n",
    "try:\n",
    "    print(\"\\n----------------------------\\n\")\n",
    "    print(f\"Original array elements: \\n{original_array}\")\n",
    "    print(\"\\n----------------------------\\n\")\n",
    "    print(f\"Print array values with precision 3 : \\n{[round(i, 3) for i in original_array.tolist()]}\")\n",
    "    print(\"\\n----------------------------\\n\")\n",
    "except Exception as e:\n",
    "    print(\"Error : \",e)\n",
    "else:\n",
    "    print(f\"Executed successfully on {datetime.datetime.now()}\")"
   ]
  },
  {
   "cell_type": "markdown",
   "metadata": {},
   "source": [
    "# Question 25. \n",
    "> Write a Python program to suppresses the use of scientific notation for small\\\n",
    "> numbers in numpy array.\\\n",
    "> Expected Output:\\\n",
    "> Original array elements:\\\n",
    "> [ 1.60000000e-10 1.60000000e+00 1.20000000e+03 2.35000000e-01]\\\n",
    "> Print array values with precision 3:\\\n",
    "> [ 0. 1.6 1200. 0.235]"
   ]
  },
  {
   "cell_type": "code",
   "execution_count": 34,
   "metadata": {},
   "outputs": [
    {
     "name": "stdout",
     "output_type": "stream",
     "text": [
      "\n",
      "----------------------------\n",
      "\n",
      "Original array elements: \n",
      "[1.60e-10 1.60e+00 1.20e+03 2.35e-01]\n",
      "\n",
      "----------------------------\n",
      "\n",
      "Print array values with precision 3 : \n",
      "[   0.       1.6   1200.       0.235]\n",
      "\n",
      "----------------------------\n",
      "\n",
      "Executed successfully on 2022-07-11 15:05:51.680300\n"
     ]
    }
   ],
   "source": [
    "original_array = np.array([1.60000000e-10, 1.60000000e+00, 1.20000000e+03, 2.35000000e-01])\n",
    "\n",
    "try:\n",
    "    print(\"\\n----------------------------\\n\")\n",
    "    print(f\"Original array elements: \\n{original_array}\")\n",
    "    print(\"\\n----------------------------\\n\")\n",
    "    np.set_printoptions(precision=3, suppress=True)\n",
    "    print(f\"Print array values with precision 3 : \\n{original_array}\")\n",
    "    print(\"\\n----------------------------\\n\")\n",
    "except Exception as e:\n",
    "    print(\"Error : \",e)\n",
    "else:\n",
    "    print(f\"Executed successfully on {datetime.datetime.now()}\")"
   ]
  },
  {
   "cell_type": "markdown",
   "metadata": {},
   "source": [
    "# Question 26. \n",
    "> Write a Python program to how to add an extra column to an numpy array.\\\n",
    "> Expected Output:\\\n",
    "> [[ 10 20 30 100]\\\n",
    "> [ 40 50 60 200]]"
   ]
  },
  {
   "cell_type": "code",
   "execution_count": 35,
   "metadata": {},
   "outputs": [
    {
     "name": "stdout",
     "output_type": "stream",
     "text": [
      "\n",
      "----------------------------\n",
      "\n",
      "Original array elements: \n",
      "[[10 20 30]\n",
      " [40 50 60]]\n",
      "\n",
      "----------------------------\n",
      "\n",
      "Expected Output : \n",
      "[[ 10  20  30 100]\n",
      " [ 40  50  60 200]]\n",
      "\n",
      "----------------------------\n",
      "\n",
      "Executed successfully on 2022-07-11 15:06:52.571318\n"
     ]
    }
   ],
   "source": [
    "original_array = np.array([[10, 20, 30],[40, 50 ,60]])\n",
    "column_to_add = np.array([100, 200])\n",
    "\n",
    "try:\n",
    "    print(\"\\n----------------------------\\n\")\n",
    "    print(f\"Original array elements: \\n{original_array}\")\n",
    "    print(\"\\n----------------------------\\n\")\n",
    "    output_array = np.c_[original_array, column_to_add]\n",
    "    print(f\"Expected Output : \\n{output_array}\")\n",
    "    print(\"\\n----------------------------\\n\")\n",
    "except Exception as e:\n",
    "    print(\"Error : \",e)\n",
    "else:\n",
    "    print(f\"Executed successfully on {datetime.datetime.now()}\")"
   ]
  },
  {
   "cell_type": "markdown",
   "metadata": {},
   "source": [
    "# Question 27. \n",
    "> Write a Python program to remove specific elements in a numpy array.\\\n",
    "> Expected Output:\\\n",
    "> Original array:\\\n",
    "> [ 10 20 30 40 50 60 70 80 90 100]\\\n",
    "> Delete first, fourth and fifth elements:\\\n",
    "> [ 20 30 60 70 80 90 100]"
   ]
  },
  {
   "cell_type": "code",
   "execution_count": 37,
   "metadata": {},
   "outputs": [
    {
     "name": "stdout",
     "output_type": "stream",
     "text": [
      "\n",
      "----------------------------\n",
      "\n",
      "Original array: \n",
      "[ 10  20  30  40  50  60  70  80  90 100]\n",
      "\n",
      "----------------------------\n",
      "\n",
      "Delete first, fourth and fifth elements : \n",
      "[ 20  30  60  70  80  90 100]\n",
      "\n",
      "----------------------------\n",
      "\n",
      "Executed successfully on 2022-07-11 15:08:23.985690\n"
     ]
    }
   ],
   "source": [
    "original_array = np.linspace(10, 100, 10, dtype=int)\n",
    "try:\n",
    "    print(\"\\n----------------------------\\n\")\n",
    "    print(f\"Original array: \\n{original_array}\")\n",
    "    print(\"\\n----------------------------\\n\")\n",
    "    output_array = np.delete(original_array, [0, 3, 4])\n",
    "    print(f\"Delete first, fourth and fifth elements : \\n{output_array}\")\n",
    "    print(\"\\n----------------------------\\n\")\n",
    "except Exception as e:\n",
    "    print(\"Error : \",e)\n",
    "else:\n",
    "    print(f\"Executed successfully on {datetime.datetime.now()}\")"
   ]
  },
  {
   "cell_type": "markdown",
   "metadata": {},
   "source": [
    "# Question 28. \n",
    "> Write a Python program to save a NumPy array to a text file."
   ]
  },
  {
   "cell_type": "code",
   "execution_count": 38,
   "metadata": {},
   "outputs": [
    {
     "name": "stdout",
     "output_type": "stream",
     "text": [
      "\n",
      "----------------------------\n",
      "\n",
      "Original array: \n",
      "[  10   51   92  133  175  216  257  298  340  381  422  463  505  546\n",
      "  587  628  670  711  752  793  835  876  917  958 1000]\n",
      "\n",
      "----------------------------\n",
      "\n",
      "Output Array : \n",
      "[[  10   51   92  133  175]\n",
      " [ 216  257  298  340  381]\n",
      " [ 422  463  505  546  587]\n",
      " [ 628  670  711  752  793]\n",
      " [ 835  876  917  958 1000]]\n",
      "\n",
      "----------------------------\n",
      "\n",
      "Executed successfully on 2022-07-11 15:09:30.892482\n"
     ]
    }
   ],
   "source": [
    "original_array = np.linspace(10, 1000, 25, dtype=int)\n",
    "\n",
    "try:\n",
    "    print(\"\\n----------------------------\\n\")\n",
    "    print(f\"Original array: \\n{original_array}\")\n",
    "    print(\"\\n----------------------------\\n\")\n",
    "    output_array = np.reshape(original_array, (5,5))\n",
    "    print(f\"Output Array : \\n{output_array}\")\n",
    "    print(\"\\n----------------------------\\n\")\n",
    "    np.savetxt(\"q28_output.txt\",output_array, delimiter=\" \", header=\"Question 28 Solution Array\")\n",
    "except Exception as e:\n",
    "    print(\"Error : \",e)\n",
    "else:\n",
    "    print(f\"Executed successfully on {datetime.datetime.now()}\")"
   ]
  }
 ],
 "metadata": {
  "kernelspec": {
   "display_name": "Python 3.8.5 ('base')",
   "language": "python",
   "name": "python3"
  },
  "language_info": {
   "codemirror_mode": {
    "name": "ipython",
    "version": 3
   },
   "file_extension": ".py",
   "mimetype": "text/x-python",
   "name": "python",
   "nbconvert_exporter": "python",
   "pygments_lexer": "ipython3",
   "version": "3.8.5"
  },
  "orig_nbformat": 4,
  "vscode": {
   "interpreter": {
    "hash": "44cefc941ed9d6b5484564532b71db757c2e46d93ba3e0428c9048b32b8e1c59"
   }
  }
 },
 "nbformat": 4,
 "nbformat_minor": 2
}
