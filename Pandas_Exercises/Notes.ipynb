{
 "cells": [
  {
   "cell_type": "markdown",
   "metadata": {},
   "source": [
    "# Pandas Notes\n",
    "\n",
    "> Pandas is an open-source library that is built on top of NumPy library. It is a Python package that offers various\\\n",
    "> data structures and operations for manipulating numerical data and time series. It is mainly popular for importing and \\\n",
    "> analyzing data much easier. Pandas is fast and it has high-performance & productivity for user"
   ]
  },
  {
   "cell_type": "markdown",
   "metadata": {},
   "source": [
    "Pandas DataFrame \n",
    "- Pandas DataFrame is two-dimensional size-mutable, potentially heterogeneous tabular data structure with labeled axes (rows and columns). \\\n",
    "- A Data frame is a two-dimensional data structure, i.e., data is aligned in a tabular fashion in rows and columns. \\\n",
    "- Pandas DataFrame consists of three principal components, the data, rows, and columns."
   ]
  },
  {
   "cell_type": "code",
   "execution_count": 1,
   "metadata": {},
   "outputs": [],
   "source": [
    "import pandas as pd\n",
    "import numpy as np\n",
    "import datetime"
   ]
  },
  {
   "cell_type": "code",
   "execution_count": 5,
   "metadata": {},
   "outputs": [
    {
     "name": "stdout",
     "output_type": "stream",
     "text": [
      "        Name\n",
      "0    zeeshan\n",
      "1     sarwar\n",
      "2      hello\n",
      "3      world\n",
      "4  dataframe\n",
      "5     pandas\n"
     ]
    }
   ],
   "source": [
    "\n",
    "list1 = ['zeeshan', 'sarwar', 'hello', 'world', 'dataframe', 'pandas']\n",
    "titles= {\"Name\": list1}\n",
    "df = pd.DataFrame(list)\n",
    "print(df)"
   ]
  },
  {
   "cell_type": "markdown",
   "metadata": {},
   "source": [
    "Python | Pandas Series\n",
    "\n",
    "- Pandas Series is a one-dimensional labeled array capable of holding data of any type (integer, string, float, python objects, etc.). \n",
    "- The axis labels are collectively called index. Pandas Series is nothing but a column in an excel sheet.\n",
    "- Labels need not be unique but must be a hashable type\n",
    "- More details : [https://www.geeksforgeeks.org/python-pandas-series/#Basics4]"
   ]
  },
  {
   "cell_type": "code",
   "execution_count": 2,
   "metadata": {},
   "outputs": [
    {
     "name": "stdout",
     "output_type": "stream",
     "text": [
      "0    <class 'list'>\n",
      "dtype: object\n"
     ]
    }
   ],
   "source": [
    "# a simple list\n",
    "list2 = ['german', 'english', 'english', 'french', 'serbian']\n",
    "  \n",
    "# create series form a list\n",
    "ser = pd.Series(list)\n",
    "print(ser)"
   ]
  },
  {
   "cell_type": "code",
   "execution_count": 3,
   "metadata": {},
   "outputs": [
    {
     "name": "stdout",
     "output_type": "stream",
     "text": [
      "Series([], dtype: object)\n"
     ]
    }
   ],
   "source": [
    "print(ser[1:3])"
   ]
  },
  {
   "cell_type": "code",
   "execution_count": 4,
   "metadata": {},
   "outputs": [
    {
     "name": "stdout",
     "output_type": "stream",
     "text": [
      "['z', 'e', 'e', 's', 'h', 'a', 'n']\n"
     ]
    }
   ],
   "source": [
    "der = list(\"zeeshan\")\n",
    "print(der)"
   ]
  },
  {
   "cell_type": "code",
   "execution_count": 9,
   "metadata": {},
   "outputs": [
    {
     "name": "stdout",
     "output_type": "stream",
     "text": [
      "0          1\n",
      "1          2\n",
      "2    zeeshan\n",
      "3       True\n",
      "dtype: object\n"
     ]
    }
   ],
   "source": [
    "list_sam1 = [1,2, 'zeeshan', True]\n",
    "data_p1 = pd.Series(list_sam1)\n",
    "print(data_p1)"
   ]
  },
  {
   "cell_type": "code",
   "execution_count": 14,
   "metadata": {},
   "outputs": [
    {
     "name": "stdout",
     "output_type": "stream",
     "text": [
      "10    z\n",
      "11    e\n",
      "12    e\n",
      "13    s\n",
      "14    h\n",
      "15    a\n",
      "16    n\n",
      "17    s\n",
      "18    a\n",
      "19    r\n",
      "20    w\n",
      "21    a\n",
      "22    r\n",
      "dtype: object\n"
     ]
    }
   ],
   "source": [
    "data = np.array(list(\"zeeshansarwar\"))\n",
    "example1 = pd.Series(data,index=[10,11,12,13,14,15,16,17,18,19,20,21,22])\n",
    "print(example1)"
   ]
  },
  {
   "cell_type": "markdown",
   "metadata": {},
   "source": [
    "pandas.array() function in Python\n",
    "\n",
    "This method is used to create an array from a sequence in desired data type.\\\n",
    "\n",
    "> Syntax : pandas.array(data: Sequence[object], dtype: Union[str, numpy.dtype, pandas.core.dtypes.base.ExtensionDtype, NoneType] = None, copy: bool = True)\\\n",
    "\n",
    "Parameters :\n",
    "\n",
    "- data : Sequence of objects. The scalars inside `data` should be instances of the scalar type for `dtype`. It’s expected that `data` represents a 1-dimensional array of data. When `data` is an Index or Series, the underlying array will be extracted from `data`.\n",
    "- dtype : tr, np.dtype, or ExtensionDtype, optional. The dtype to use for the array. This may be a NumPy dtype or an extension type registered with pandas.\n",
    "- copy : bool, default True. Whether to copy the data, even if not necessary. Depending on the type of `data`, creating the new array may require copying data, even if “copy=False“."
   ]
  },
  {
   "cell_type": "code",
   "execution_count": 19,
   "metadata": {},
   "outputs": [
    {
     "name": "stdout",
     "output_type": "stream",
     "text": [
      "<PandasArray>\n",
      "[1.0, 2.0, 3.0, 4.0, 5.0, 6.0]\n",
      "Length: 6, dtype: float64\n"
     ]
    }
   ],
   "source": [
    "# create Pandas array with dtype string\n",
    "pd_arr = pd.array(data=[1,2,3,4,5,6], dtype = float)\n",
    "  \n",
    "# print the formed array\n",
    "print(pd_arr)"
   ]
  },
  {
   "cell_type": "markdown",
   "metadata": {},
   "source": [
    "## Python | Pandas DataFrame\n",
    "\n",
    "- Pandas DataFrame is two-dimensional size-mutable, potentially heterogeneous tabular data structure with labeled axes (rows and columns). \n",
    "- A Data frame is a two-dimensional data structure, i.e., data is aligned in a tabular fashion in rows and columns. \n",
    "- Pandas DataFrame consists of three principal components, the data, rows, and columns.\n",
    "- [https://www.geeksforgeeks.org/python-pandas-dataframe/]"
   ]
  },
  {
   "cell_type": "markdown",
   "metadata": {},
   "source": [
    "### Creating a Pandas DataFrame\n",
    "- In the real world, a Pandas DataFrame will be created by loading the datasets from existing storage, storage can be SQL Database, CSV file, and Excel file. Pandas DataFrame can be created from the lists, dictionary, and from a list of dictionary etc. \n",
    "- Dataframe can be created in different ways here are some ways by which we create a dataframe:"
   ]
  },
  {
   "cell_type": "code",
   "execution_count": 15,
   "metadata": {},
   "outputs": [
    {
     "name": "stdout",
     "output_type": "stream",
     "text": [
      "        0\n",
      "0   Geeks\n",
      "1     For\n",
      "2   Geeks\n",
      "3      is\n",
      "4  portal\n",
      "5     for\n",
      "6   Geeks\n"
     ]
    }
   ],
   "source": [
    "# list of strings\n",
    "lst_sample = ['Geeks', 'For', 'Geeks', 'is', \n",
    "            'portal', 'for', 'Geeks']\n",
    " \n",
    "# Calling DataFrame constructor on list\n",
    "df = pd.DataFrame(lst_sample)\n",
    "print(df)"
   ]
  },
  {
   "cell_type": "markdown",
   "metadata": {},
   "source": [
    "# Notes : \n",
    "- .tolist() -- to convert a series to list\n",
    "- df.drop([columns], axis=1)\n",
    "- df.replace({original:new,}) --replace the original value with the new value\n",
    "- df.sort_values('column', ascending=True) -- sort the dataframe by column in ascending order\n",
    "- pd.concat(df1, df2)  -- concatenate two dataframes\n",
    "- df['columns'].mean() -- method for finding the mean of the column\n",
    "- df['columns'].sum() -- method for finding the sum of the column\n",
    "- df.loc['index','columns'] -- method for finding specific elements of the  \n",
    "- df.append(df) -- append values to the end of the df"
   ]
  },
  {
   "cell_type": "markdown",
   "metadata": {},
   "source": [
    "# Important Links: \n",
    "- [https://www.askpython.com/python/pandas-dataframe-vs-numpy-arrays]\n",
    "- "
   ]
  },
  {
   "cell_type": "markdown",
   "metadata": {},
   "source": [
    "#### df.iterrows() -- Iterate over DataFrame rows as (index, Series) pairs."
   ]
  },
  {
   "cell_type": "markdown",
   "metadata": {},
   "source": [
    "- df['column'] --> returns the column as series\n",
    "- df.loc['index'] --> returns the row as series\n",
    "- Also the above can be used to add rows/columns to the dataframe\n"
   ]
  },
  {
   "cell_type": "markdown",
   "metadata": {},
   "source": [
    "Label vs. Location\n",
    "The main distinction between the two methods is:\n",
    "\n",
    "loc gets rows (and/or columns) with particular labels.\n",
    "\n",
    "iloc gets rows (and/or columns) at integer locations.\n",
    "\n",
    "To demonstrate, consider a series s of characters with a non-monotonic integer index:\n",
    "\n",
    ">>> s = pd.Series(list(\"abcdef\"), index=[49, 48, 47, 0, 1, 2]) \n",
    "49    a\n",
    "48    b\n",
    "47    c\n",
    "0     d\n",
    "1     e\n",
    "2     f\n",
    "\n",
    ">>> s.loc[0]    # value at index label 0\n",
    "'d'\n",
    "\n",
    ">>> s.iloc[0]   # value at index location 0\n",
    "'a'\n",
    "\n",
    ">>> s.loc[0:1]  # rows at index labels between 0 and 1 (inclusive)\n",
    "0    d\n",
    "1    e\n",
    "\n",
    ">>> s.iloc[0:1] # rows at index location between 0 and 1 (exclusive)\n",
    "49    a\n",
    "\n",
    "> [https://stackoverflow.com/questions/31593201/how-are-iloc-and-loc-different]"
   ]
  },
  {
   "cell_type": "code",
   "execution_count": 13,
   "metadata": {},
   "outputs": [
    {
     "name": "stdout",
     "output_type": "stream",
     "text": [
      "['1' '2' '3' '4' '5' 'hello']\n"
     ]
    }
   ],
   "source": [
    "arr = np.array([1, 2, 3, 4, 5, 'hello'])\n",
    "print(arr)"
   ]
  },
  {
   "cell_type": "code",
   "execution_count": null,
   "metadata": {},
   "outputs": [],
   "source": [
    "data = {'Name':[\"Tommy\",\"Linda\",\"Justin\",\"Brendon\"], 'Age':[31,24,16,22]}\n",
    "df=pd.DataFrame(data)\n",
    "print(df)"
   ]
  },
  {
   "cell_type": "code",
   "execution_count": 2,
   "metadata": {},
   "outputs": [],
   "source": [
    "exam_data = {\n",
    "            'name': ['Anastasia', 'Dima', 'Katherine', 'James', 'Emily', 'Michael',\n",
    "            'Matthew', 'Laura', 'Kevin', 'Jonas'],\n",
    "            'score': [12.5, 9, 16.5, np.nan, 9, 20, 14.5, np.nan, 8, 19],\n",
    "            'attempts': [1, 3, 2, 3, 2, 3, 1, 1, 2, 1],\n",
    "            'qualify': ['yes', 'no', 'yes', 'no', 'no', 'yes', 'yes', 'no', 'no', 'yes']\n",
    "            }\n",
    "\n",
    "labels = ['a', 'b', 'c', 'd', 'e', 'f', 'g', 'h', 'i', 'j']"
   ]
  },
  {
   "cell_type": "code",
   "execution_count": 49,
   "metadata": {},
   "outputs": [
    {
     "name": "stdout",
     "output_type": "stream",
     "text": [
      "10\n",
      "4\n",
      "        name  score  attempts qualify\n",
      "a  Anastasia   12.5         1     yes\n",
      "b       Dima    9.0         3      no\n",
      "c  Katherine   16.5         2     yes\n",
      "d      James    NaN         3      no\n",
      "e      Emily    9.0         2      no\n",
      "f    Michael   20.0         3     yes\n",
      "g    Matthew   14.5         1     yes\n",
      "h      Laura    NaN         1      no\n",
      "i      Kevin    8.0         2      no\n",
      "j      Jonas   19.0         1     yes\n"
     ]
    }
   ],
   "source": [
    "print(f\"{len(data.index)}\")\n",
    "print(f\"{len(data.columns)}\")\n",
    "\n",
    "print(data)"
   ]
  },
  {
   "cell_type": "code",
   "execution_count": 51,
   "metadata": {},
   "outputs": [
    {
     "name": "stdout",
     "output_type": "stream",
     "text": [
      "name        Emily\n",
      "score           9\n",
      "attempts        2\n",
      "qualify        no\n",
      "Name: e, dtype: object\n"
     ]
    }
   ],
   "source": [
    "print(data.loc['e'])"
   ]
  },
  {
   "cell_type": "code",
   "execution_count": 8,
   "metadata": {},
   "outputs": [
    {
     "name": "stdout",
     "output_type": "stream",
     "text": [
      "   a  b   c\n",
      "1  4  7  10\n",
      "2  5  8  11\n",
      "3  6  9  12\n"
     ]
    }
   ],
   "source": [
    "df1 = pd.DataFrame({\n",
    "    'a' : [4, 5, 6],\n",
    "    'b' : [7, 8, 9],\n",
    "    'c' : [10, 11, 12]\n",
    "}, index=[1, 2, 3])\n",
    "print(df1)"
   ]
  },
  {
   "cell_type": "code",
   "execution_count": 9,
   "metadata": {},
   "outputs": [
    {
     "name": "stdout",
     "output_type": "stream",
     "text": [
      "    a   b   c\n",
      "1   4   5   6\n",
      "2   7   8   9\n",
      "3  10  11  12\n"
     ]
    }
   ],
   "source": [
    "df2 = pd.DataFrame([\n",
    "    [4, 5, 6],\n",
    "    [7, 8, 9],\n",
    "    [10, 11, 12]], index=[1, 2, 3], columns=['a', 'b', 'c'])\n",
    "print(df2)"
   ]
  }
 ],
 "metadata": {
  "kernelspec": {
   "display_name": "Python 3.8.5 ('base')",
   "language": "python",
   "name": "python3"
  },
  "language_info": {
   "codemirror_mode": {
    "name": "ipython",
    "version": 3
   },
   "file_extension": ".py",
   "mimetype": "text/x-python",
   "name": "python",
   "nbconvert_exporter": "python",
   "pygments_lexer": "ipython3",
   "version": "3.8.5"
  },
  "orig_nbformat": 4,
  "vscode": {
   "interpreter": {
    "hash": "44cefc941ed9d6b5484564532b71db757c2e46d93ba3e0428c9048b32b8e1c59"
   }
  }
 },
 "nbformat": 4,
 "nbformat_minor": 2
}
