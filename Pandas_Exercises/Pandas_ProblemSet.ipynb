{
 "cells": [
  {
   "cell_type": "markdown",
   "metadata": {},
   "source": [
    "# Pandas Exercises\n"
   ]
  },
  {
   "cell_type": "code",
   "execution_count": 1,
   "metadata": {},
   "outputs": [],
   "source": [
    "import numpy as np\n",
    "import datetime\n",
    "import pandas as pd"
   ]
  },
  {
   "cell_type": "markdown",
   "metadata": {},
   "source": [
    "Question 1\n",
    "> Write a Python program to create and display a one-dimensional array-like object containing an array of data using Pandas module.\n"
   ]
  },
  {
   "cell_type": "code",
   "execution_count": 2,
   "metadata": {},
   "outputs": [
    {
     "name": "stdout",
     "output_type": "stream",
     "text": [
      "\n",
      "---------------------------------------\n",
      "\n",
      "Original-list : [72, 73, 74, 75, 76, 77, 78, 79, 80, 81, 82, 83, 84, 85, 86, 87, 88, 89, 90]\n",
      "One-dimensional pandas array : <IntegerArray>\n",
      "[72, 73, 74, 75, 76, 77, 78, 79, 80, 81, 82, 83, 84, 85, 86, 87, 88, 89, 90]\n",
      "Length: 19, dtype: Int64\n",
      "\n",
      "---------------------------------------\n",
      "\n",
      "Executed successfully on 2022-07-11 18:14:42.862037\n"
     ]
    }
   ],
   "source": [
    "try:\n",
    "    Original_list = list(range(72,91))\n",
    "    print(f\"\\n---------------------------------------\\n\")\n",
    "    print(f\"Original-list : {Original_list}\")\n",
    "    pandas_array = pd.array(Original_list)\n",
    "    print(f\"One-dimensional pandas array : {pandas_array}\")\n",
    "    print(f\"\\n---------------------------------------\\n\")\n",
    "    \n",
    "except Exception as e:\n",
    "    print(f\"Error : {e}\")\n",
    "else:\n",
    "    print(f\"Executed successfully on {datetime.datetime.now()}\")\n"
   ]
  },
  {
   "cell_type": "markdown",
   "metadata": {},
   "source": [
    "Question 2\n",
    "> Write a Python program to convert a Panda module Series to Python list and it's type.\n",
    "> "
   ]
  },
  {
   "cell_type": "code",
   "execution_count": 3,
   "metadata": {},
   "outputs": [
    {
     "name": "stdout",
     "output_type": "stream",
     "text": [
      "\n",
      "---------------------------------------\n",
      "\n",
      "Panda module Series : \n",
      "0     72\n",
      "1     73\n",
      "2     74\n",
      "3     75\n",
      "4     76\n",
      "5     77\n",
      "6     78\n",
      "7     79\n",
      "8     80\n",
      "9     81\n",
      "10    82\n",
      "11    83\n",
      "12    84\n",
      "13    85\n",
      "14    86\n",
      "15    87\n",
      "16    88\n",
      "17    89\n",
      "18    90\n",
      "dtype: int64 and the type is : <class 'pandas.core.series.Series'>\n",
      "\n",
      "Python list : [72, 73, 74, 75, 76, 77, 78, 79, 80, 81, 82, 83, 84, 85, 86, 87, 88, 89, 90] and the type is : <class 'list'>\n",
      "\n",
      "---------------------------------------\n",
      "\n",
      "Executed successfully on 2022-07-11 19:21:41.105345\n"
     ]
    }
   ],
   "source": [
    "try:\n",
    "    Original_list = list(range(72,91))\n",
    "    print(f\"\\n---------------------------------------\\n\")\n",
    "    pandas_array = pd.Series(Original_list)\n",
    "    print(f\"Panda module Series : \\n{pandas_array} and the type is : {type(pandas_array)}\")\n",
    "    converted_list = pandas_array.tolist()\n",
    "    print(f\"\\nPython list : {converted_list} and the type is : {type(converted_list)}\")\n",
    "    \n",
    "    print(f\"\\n---------------------------------------\\n\")\n",
    "    \n",
    "except Exception as e:\n",
    "    print(f\"Error : {e}\")\n",
    "else:\n",
    "    print(f\"Executed successfully on {datetime.datetime.now()}\")"
   ]
  },
  {
   "cell_type": "markdown",
   "metadata": {},
   "source": [
    "Question 3   \n",
    "> Write a Python program to add, subtract, multiple and divide two Pandas Series.\\\n",
    "> Sample Series: [2, 4, 6, 8, 10], [1, 3, 5, 7, 9]\n",
    "> \n"
   ]
  },
  {
   "cell_type": "code",
   "execution_count": 4,
   "metadata": {},
   "outputs": [
    {
     "name": "stdout",
     "output_type": "stream",
     "text": [
      "\n",
      "---------------------------------------\n",
      "\n",
      "Sample series addition : \n",
      "0     3\n",
      "1     7\n",
      "2    11\n",
      "3    15\n",
      "4    19\n",
      "dtype: int64\n",
      "Sample series subtraction : \n",
      "0    1\n",
      "1    1\n",
      "2    1\n",
      "3    1\n",
      "4    1\n",
      "dtype: int64\n",
      "Sample series multiplication : \n",
      "0     2\n",
      "1    12\n",
      "2    30\n",
      "3    56\n",
      "4    90\n",
      "dtype: int64\n",
      "Sample series division : \n",
      "0    2.000000\n",
      "1    1.333333\n",
      "2    1.200000\n",
      "3    1.142857\n",
      "4    1.111111\n",
      "dtype: float64\n",
      "\n",
      "---------------------------------------\n",
      "\n",
      "Executed successfully on 2022-07-11 19:31:52.186405\n"
     ]
    }
   ],
   "source": [
    "try:\n",
    "    series_1 = pd.Series([2, 4, 6, 8, 10])\n",
    "    series_2 = pd.Series([1, 3, 5, 7, 9])\n",
    "    print(f\"\\n---------------------------------------\\n\")\n",
    "    #print(f\"Sample series 01 : \\n{series_1}\")\n",
    "    #print(f\"Sample series 02 : \\n{series_2}\")\n",
    "    print(f\"Sample series addition : \\n{series_1+series_2}\")\n",
    "    print(f\"Sample series subtraction : \\n{series_1-series_2}\")\n",
    "    print(f\"Sample series multiplication : \\n{series_1*series_2}\")\n",
    "    print(f\"Sample series division : \\n{series_1/series_2}\")\n",
    "    print(f\"\\n---------------------------------------\\n\")\n",
    "except Exception as e:\n",
    "    print(f\"Error : {e}\")\n",
    "else:\n",
    "    print(f\"Executed successfully on {datetime.datetime.now()}\")\n"
   ]
  },
  {
   "cell_type": "markdown",
   "metadata": {},
   "source": [
    "Question 4\n",
    "> Write a Python program to get the powers of an array values element-wise.\\\n",
    "> Note: First array elements raised to powers from second array\\\n",
    "> Expected Output:\\\n",
    "> Original array\\\n",
    "> [0 1 2 3 4 5 6]\\\n",
    "> First array elements raised to powers from second array, element-wise:\\\n",
    "> [ 0 1 8 27 64 125 216]"
   ]
  },
  {
   "cell_type": "code",
   "execution_count": 5,
   "metadata": {},
   "outputs": [
    {
     "name": "stdout",
     "output_type": "stream",
     "text": [
      "\n",
      "---------------------------------------\n",
      "\n",
      "Sample series 01 : \n",
      "[0, 1, 2, 3, 4, 5, 6]\n",
      "Sample series 02 : \n",
      "[3, 3, 3, 3, 3, 3, 3]\n",
      "First array elements raised to powers from second array, element-wise: : \n",
      "     0\n",
      "0    0\n",
      "1    1\n",
      "2    8\n",
      "3   27\n",
      "4   64\n",
      "5  125\n",
      "6  216\n",
      "\n",
      "---------------------------------------\n",
      "\n",
      "Executed successfully on 2022-07-12 09:43:41.629017\n"
     ]
    }
   ],
   "source": [
    "try:\n",
    "    array_1 = [0, 1, 2, 3, 4, 5, 6]\n",
    "    array_2 = [3, 3, 3, 3, 3, 3, 3]\n",
    "    print(f\"\\n---------------------------------------\\n\")\n",
    "    print(f\"Sample series 01 : \\n{array_1}\")\n",
    "    print(f\"Sample series 02 : \\n{array_2}\")\n",
    "    output_array = [array_1[i]**array_2[i] for i in range(len(array_1))]\n",
    "    pandas_data = pd.DataFrame(output_array)\n",
    "    print(f\"First array elements raised to powers from second array, element-wise: : \\n{pandas_data}\")\n",
    "    print(f\"\\n---------------------------------------\\n\")\n",
    "except Exception as e:\n",
    "    print(f\"Error : {e}\")\n",
    "else:\n",
    "    print(f\"Executed successfully on {datetime.datetime.now()}\")"
   ]
  },
  {
   "cell_type": "markdown",
   "metadata": {},
   "source": [
    "Question 5\n",
    "> Write a Python program to create and display a DataFrame from a specified dictionary\\\n",
    "> data which has the index labels.\\\n",
    "> Sample Python dictionary data and list labels:\\\n",
    "> exam_data = {'name': ['Anastasia', 'Dima', 'Katherine', 'James', 'Emily', 'Michael',\\\n",
    "> 'Matthew', 'Laura', 'Kevin', 'Jonas'],\\\n",
    "> 'score': [12.5, 9, 16.5, np.nan, 9, 20, 14.5, np.nan, 8, 19],\\\n",
    "> 'attempts': [1, 3, 2, 3, 2, 3, 1, 1, 2, 1],\\\n",
    "> 'qualify': ['yes', 'no', 'yes', 'no', 'no', 'yes', 'yes', 'no', 'no', 'yes']}\\\n",
    "> labels = ['a', 'b', 'c', 'd', 'e', 'f', 'g', 'h', 'i', 'j']\n",
    ">"
   ]
  },
  {
   "cell_type": "code",
   "execution_count": 4,
   "metadata": {},
   "outputs": [],
   "source": [
    "exam_data = {\n",
    "            'name': ['Anastasia', 'Dima', 'Katherine', 'James', 'Emily', 'Michael',\n",
    "            'Matthew', 'Laura', 'Kevin', 'Jonas'],\n",
    "            'score': [12.5, 9, 16.5, np.nan, 9, 20, 14.5, np.nan, 8, 19],\n",
    "            'attempts': [1, 3, 2, 3, 2, 3, 1, 1, 2, 1],\n",
    "            'qualify': ['yes', 'no', 'yes', 'no', 'no', 'yes', 'yes', 'no', 'no', 'yes']\n",
    "            }\n",
    "\n",
    "labels = ['a', 'b', 'c', 'd', 'e', 'f', 'g', 'h', 'i', 'j']"
   ]
  },
  {
   "cell_type": "code",
   "execution_count": 5,
   "metadata": {},
   "outputs": [
    {
     "name": "stdout",
     "output_type": "stream",
     "text": [
      "\n",
      "---------------------------------------\n",
      "\n",
      "The provided data : \n",
      "        name  score  attempts qualify\n",
      "a  Anastasia   12.5         1     yes\n",
      "b       Dima    9.0         3      no\n",
      "c  Katherine   16.5         2     yes\n",
      "d      James    NaN         3      no\n",
      "e      Emily    9.0         2      no\n",
      "f    Michael   20.0         3     yes\n",
      "g    Matthew   14.5         1     yes\n",
      "h      Laura    NaN         1      no\n",
      "i      Kevin    8.0         2      no\n",
      "j      Jonas   19.0         1     yes\n",
      "\n",
      "---------------------------------------\n",
      "\n",
      "Executed successfully on 2022-07-12 15:44:17.477879\n"
     ]
    }
   ],
   "source": [
    "try:\n",
    "    print(f\"\\n---------------------------------------\\n\")\n",
    "    pandas_data = pd.DataFrame(exam_data, labels)\n",
    "    print(f\"The provided data : \\n{pandas_data}\")\n",
    "    print(f\"\\n---------------------------------------\\n\")\n",
    "except Exception as e:\n",
    "    print(f\"Error : {e}\")\n",
    "else:\n",
    "    print(f\"Executed successfully on {datetime.datetime.now()}\")"
   ]
  },
  {
   "cell_type": "markdown",
   "metadata": {},
   "source": [
    "Question 6 \n",
    "> Write a Python program to display a summary of the basic information about a specified Data Frame and its data.\n",
    "> Sample Python dictionary data and list labels:\\\n",
    "> exam_data = {'name': ['Anastasia', 'Dima', 'Katherine', 'James', 'Emily', 'Michael', 'Matthew',\\\n",
    "> 'Laura', 'Kevin', 'Jonas'],\\\n",
    "> 'score': [12.5, 9, 16.5, np.nan, 9, 20, 14.5, np.nan, 8, 19],\\\n",
    "> 'attempts': [1, 3, 2, 3, 2, 3, 1, 1, 2, 1],\\\n",
    "> 'qualify': ['yes', 'no', 'yes', 'no', 'no', 'yes', 'yes', 'no', 'no', 'yes']}\\\n",
    "> labels = ['a', 'b', 'c', 'd', 'e', 'f', 'g', 'h', 'i', 'j']\n",
    "> \n"
   ]
  },
  {
   "cell_type": "code",
   "execution_count": 6,
   "metadata": {},
   "outputs": [
    {
     "name": "stdout",
     "output_type": "stream",
     "text": [
      "\n",
      "---------------------------------------\n",
      "\n",
      "The description of the data : \n",
      "           score   attempts\n",
      "count   8.000000  10.000000\n",
      "mean   13.562500   1.900000\n",
      "std     4.693746   0.875595\n",
      "min     8.000000   1.000000\n",
      "25%     9.000000   1.000000\n",
      "50%    13.500000   2.000000\n",
      "75%    17.125000   2.750000\n",
      "max    20.000000   3.000000\n",
      "\n",
      "---------------------------------------\n",
      "\n",
      "Executed successfully on 2022-07-12 15:44:32.219050\n"
     ]
    }
   ],
   "source": [
    "try:\n",
    "    print(f\"\\n---------------------------------------\\n\")\n",
    "    pandas_data = pd.DataFrame(exam_data, labels)\n",
    "    #print(f\"The provided data : \\n{pandas_data}\")\n",
    "    print(f\"The description of the data : \\n{pandas_data.describe()}\")\n",
    "    print(f\"\\n---------------------------------------\\n\")\n",
    "except Exception as e:\n",
    "    print(f\"Error : {e}\")\n",
    "else:\n",
    "    print(f\"Executed successfully on {datetime.datetime.now()}\")"
   ]
  },
  {
   "cell_type": "markdown",
   "metadata": {},
   "source": [
    "Question 7\n",
    "> Write a Python program to get the first 3 rows of a given DataFrame.\\\n",
    "> Sample Python dictionary data and list labels:\\\n",
    "> exam_data = {'name': ['Anastasia', 'Dima', 'Katherine', 'James', 'Emily', 'Michael', 'Matthew',\\\n",
    "> 'Laura', 'Kevin', 'Jonas'],\\\n",
    "> 'score': [12.5, 9, 16.5, np.nan, 9, 20, 14.5, np.nan, 8, 19],\\\n",
    "> 'attempts': [1, 3, 2, 3, 2, 3, 1, 1, 2, 1],\\\n",
    "> 'qualify': ['yes', 'no', 'yes', 'no', 'no', 'yes', 'yes','no', 'no', 'yes']}\\\n",
    "> labels = ['a', 'b', 'c', 'd', 'e', 'f', 'g', 'h', 'i', 'j']\n",
    "> \n"
   ]
  },
  {
   "cell_type": "code",
   "execution_count": 7,
   "metadata": {},
   "outputs": [
    {
     "name": "stdout",
     "output_type": "stream",
     "text": [
      "\n",
      "---------------------------------------\n",
      "\n",
      "The first 3 rows of the data : \n",
      "        name  score  attempts qualify\n",
      "a  Anastasia   12.5         1     yes\n",
      "b       Dima    9.0         3      no\n",
      "c  Katherine   16.5         2     yes\n",
      "\n",
      "---------------------------------------\n",
      "\n",
      "Executed successfully on 2022-07-12 15:44:36.709358\n"
     ]
    }
   ],
   "source": [
    "try:\n",
    "    print(f\"\\n---------------------------------------\\n\")\n",
    "    pandas_data = pd.DataFrame(exam_data, labels)\n",
    "    #print(f\"The provided data : \\n{pandas_data}\")\n",
    "    print(f\"The first 3 rows of the data : \\n{pandas_data.head(3)}\")\n",
    "    print(f\"\\n---------------------------------------\\n\")\n",
    "except Exception as e:\n",
    "    print(f\"Error : {e}\")\n",
    "else:\n",
    "    print(f\"Executed successfully on {datetime.datetime.now()}\")"
   ]
  },
  {
   "cell_type": "markdown",
   "metadata": {},
   "source": [
    "Question 8\n",
    "> Write a Python program to select the 'name' and 'score' columns from the following DataFrame.\\\n",
    "> Sample Python dictionary data and list labels:\\\n",
    "> exam_data = {'name': ['Anastasia', 'Dima', 'Katherine', 'James', 'Emily', 'Michael', 'Matthew',\\\n",
    "> 'Laura', 'Kevin', 'Jonas'],\\\n",
    "> 'score': [12.5, 9, 16.5, np.nan, 9, 20, 14.5, np.nan, 8, 19],\\\n",
    "> 'attempts': [1, 3, 2, 3, 2, 3, 1, 1, 2, 1],\\\n",
    "> 'qualify': ['yes', 'no', 'yes', 'no', 'no', 'yes', 'yes', 'no', 'no', 'yes']}\\\n",
    "> labels = ['a', 'b', 'c', 'd', 'e', 'f', 'g', 'h', 'i', 'j']\n",
    "> \n"
   ]
  },
  {
   "cell_type": "code",
   "execution_count": 9,
   "metadata": {},
   "outputs": [
    {
     "name": "stdout",
     "output_type": "stream",
     "text": [
      "\n",
      "---------------------------------------\n",
      "\n",
      "The 'name' and 'score' columns of the data : \n",
      "        name  score\n",
      "a  Anastasia   12.5\n",
      "b       Dima    9.0\n",
      "c  Katherine   16.5\n",
      "d      James    NaN\n",
      "e      Emily    9.0\n",
      "f    Michael   20.0\n",
      "g    Matthew   14.5\n",
      "h      Laura    NaN\n",
      "i      Kevin    8.0\n",
      "j      Jonas   19.0\n",
      "\n",
      "---------------------------------------\n",
      "\n",
      "Executed successfully on 2022-07-12 15:50:55.012319\n"
     ]
    }
   ],
   "source": [
    "try:\n",
    "    print(f\"\\n---------------------------------------\\n\")\n",
    "    pandas_data = pd.DataFrame(exam_data, labels)\n",
    "    print(f\"The 'name' and 'score' columns of the data : \\n{pandas_data[['name', 'score']]}\")\n",
    "    print(f\"\\n---------------------------------------\\n\")\n",
    "except Exception as e:\n",
    "    print(f\"Error : {e}\")\n",
    "else:\n",
    "    print(f\"Executed successfully on {datetime.datetime.now()}\")"
   ]
  },
  {
   "cell_type": "markdown",
   "metadata": {},
   "source": [
    "Question 9\n",
    "> Write a Python program to select the specified columns and rows from a given data frame.\\\n",
    "> Select 'name' and 'score' columns in rows 1, 3, 5, 6 from the following data frame.\\\n",
    "> exam_data = {'name': ['Anastasia', 'Dima', 'Katherine', 'James', 'Emily', 'Michael', 'Matthew',\\\n",
    "> 'Laura', 'Kevin', 'Jonas'],\\\n",
    "> 'score': [12.5, 9, 16.5, np.nan, 9, 20, 14.5, np.nan, 8, 19],\\\n",
    "> 'attempts': [1, 3, 2, 3, 2, 3, 1, 1, 2, 1],\\\n",
    "> 'qualify': ['yes', 'no', 'yes', 'no', 'no', 'yes', 'yes', 'no', 'no', 'yes']}\\\n",
    "> labels = ['a', 'b', 'c', 'd', 'e', 'f', 'g', 'h', 'i', 'j']\n",
    "> \n"
   ]
  },
  {
   "cell_type": "code",
   "execution_count": 10,
   "metadata": {},
   "outputs": [
    {
     "name": "stdout",
     "output_type": "stream",
     "text": [
      "\n",
      "---------------------------------------\n",
      "\n",
      "The 'name' and 'score' columns of the data : \n",
      "      name  score\n",
      "b     Dima    9.0\n",
      "d    James    NaN\n",
      "f  Michael   20.0\n",
      "g  Matthew   14.5\n",
      "\n",
      "---------------------------------------\n",
      "\n",
      "Executed successfully on 2022-07-12 16:00:55.282059\n"
     ]
    }
   ],
   "source": [
    "try:\n",
    "    print(f\"\\n---------------------------------------\\n\")\n",
    "    pandas_data = pd.DataFrame(exam_data, labels)\n",
    "    print(f\"The 'name' and 'score' columns of the data : \\n{pandas_data[['name', 'score']].iloc[[1, 3, 5, 6]]}\")\n",
    "    print(f\"\\n---------------------------------------\\n\")\n",
    "except Exception as e:\n",
    "    print(f\"Error : {e}\")\n",
    "else:\n",
    "    print(f\"Executed successfully on {datetime.datetime.now()}\")"
   ]
  },
  {
   "cell_type": "markdown",
   "metadata": {},
   "source": [
    "Question 10\n",
    "> Write a Python program to select the rows where the number of attempts in the examination is greater than 2.\\\n",
    "> exam_data = {'name': ['Anastasia', 'Dima', 'Katherine', 'James', 'Emily', 'Michael', 'Matthew',\\\n",
    "> 'Laura', 'Kevin', 'Jonas'],\\\n",
    "> 'score': [12.5, 9, 16.5, np.nan, 9, 20, 14.5, np.nan, 8, 19],\\\n",
    "> 'attempts': [1, 3, 2, 3, 2, 3, 1, 1, 2, 1],\\\n",
    "> 'qualify': ['yes', 'no', 'yes', 'no', 'no', 'yes', 'yes', 'no', 'no', 'yes']}\\\n",
    "> labels = ['a', 'b', 'c', 'd', 'e', 'f', 'g', 'h', 'i', 'j']\n",
    "> \n"
   ]
  },
  {
   "cell_type": "code",
   "execution_count": 11,
   "metadata": {},
   "outputs": [
    {
     "name": "stdout",
     "output_type": "stream",
     "text": [
      "\n",
      "---------------------------------------\n",
      "\n",
      "The rows where the number of attempts in the examination is greater than 2 : \n",
      "      name  score  attempts qualify\n",
      "b     Dima    9.0         3      no\n",
      "d    James    NaN         3      no\n",
      "f  Michael   20.0         3     yes\n",
      "\n",
      "---------------------------------------\n",
      "\n",
      "Executed successfully on 2022-07-12 16:07:05.294218\n"
     ]
    }
   ],
   "source": [
    "try:\n",
    "    print(f\"\\n---------------------------------------\\n\")\n",
    "    pandas_data = pd.DataFrame(exam_data, labels)\n",
    "    print(f\"The rows where the number of attempts in the examination is greater than 2 : \\n{pandas_data[pandas_data.attempts > 2]}\")\n",
    "    print(f\"\\n---------------------------------------\\n\")\n",
    "except Exception as e:\n",
    "    print(f\"Error : {e}\")\n",
    "else:\n",
    "    print(f\"Executed successfully on {datetime.datetime.now()}\")"
   ]
  },
  {
   "cell_type": "markdown",
   "metadata": {},
   "source": [
    "Question 11\n",
    "> Write a Python program to count the number of rows and columns of a DataFrame.\\\n",
    "> Sample data:\\\n",
    "> exam_data = {'name': ['Anastasia', 'Dima', 'Katherine', 'James', 'Emily', 'Michael', 'Matthew',\\\n",
    "> 'Laura', 'Kevin', 'Jonas'],\\\n",
    "> 'score': [12.5, 9, 16.5, np.nan, 9, 20, 14.5, np.nan, 8, 19],\\\n",
    "> 'attempts': [1, 3, 2, 3, 2, 3, 1, 1, 2, 1],\\\n",
    "> 'qualify': ['yes', 'no', 'yes', 'no', 'no', 'yes', 'yes', 'no', 'no', 'yes']}\\\n",
    "> labels = ['a', 'b', 'c', 'd', 'e', 'f', 'g', 'h', 'i', 'j']\n",
    "> \n"
   ]
  },
  {
   "cell_type": "code",
   "execution_count": 36,
   "metadata": {},
   "outputs": [
    {
     "name": "stdout",
     "output_type": "stream",
     "text": [
      "\n",
      "---------------------------------------\n",
      "\n",
      "The number of rows of the DataFrame : 10\n",
      "The number of columns of the DataFrame : 4\n",
      "\n",
      "---------------------------------------\n",
      "\n",
      "Executed successfully on 2022-07-12 16:44:05.959008\n"
     ]
    }
   ],
   "source": [
    "try:\n",
    "    print(f\"\\n---------------------------------------\\n\")\n",
    "    pandas_data = pd.DataFrame(exam_data, labels)\n",
    "    print(f\"The number of rows of the DataFrame : {len(pandas_data)}\")\n",
    "    # print(f\"The number of rows of the DataFrame : {len(pandas_data.iloc[:,2])}\")\n",
    "    print(f\"The number of columns of the DataFrame : {len(pandas_data.keys())}\")\n",
    "    # print(f\"The number of columns of the DataFrame : {len(pandas_data.iloc[2])}\")\n",
    "    print(f\"\\n---------------------------------------\\n\")\n",
    "except Exception as e:\n",
    "    print(f\"Error : {e}\")\n",
    "else:\n",
    "    print(f\"Executed successfully on {datetime.datetime.now()}\")"
   ]
  },
  {
   "cell_type": "code",
   "execution_count": 42,
   "metadata": {},
   "outputs": [
    {
     "name": "stdout",
     "output_type": "stream",
     "text": [
      "d   NaN\n",
      "Name: score, dtype: float64\n"
     ]
    }
   ],
   "source": [
    "print(pandas_data['score'][pandas_data.index == 'd'])\n",
    "\n"
   ]
  },
  {
   "cell_type": "markdown",
   "metadata": {},
   "source": [
    "Question 12\n",
    "> Write a Python program to select the rows where the score is missing, i.e. is NaN.\\\n",
    "> exam_data = {'name': ['Anastasia', 'Dima', 'Katherine', 'James', 'Emily', 'Michael', 'Matthew',\\\n",
    "> 'Laura', 'Kevin', 'Jonas'],\\\n",
    "> 'score': [12.5, 9, 16.5, np.nan, 9, 20, 14.5, np.nan, 8, 19],\\\n",
    "> 'attempts': [1, 3, 2, 3, 2, 3, 1, 1, 2, 1],\\\n",
    "> 'qualify': ['yes', 'no', 'yes', 'no', 'no', 'yes', 'yes', 'no', 'no', 'yes']}\\\n",
    "> labels = ['a', 'b', 'c', 'd', 'e', 'f', 'g', 'h', 'i', 'j']\n",
    "> \n"
   ]
  },
  {
   "cell_type": "code",
   "execution_count": 37,
   "metadata": {},
   "outputs": [
    {
     "name": "stdout",
     "output_type": "stream",
     "text": [
      "\n",
      "---------------------------------------\n",
      "\n",
      "The rows where the score is missing, i.e. is NaN : \n",
      "    name  score  attempts qualify\n",
      "d  James    NaN         3      no\n",
      "h  Laura    NaN         1      no\n",
      "\n",
      "---------------------------------------\n",
      "\n",
      "Executed successfully on 2022-07-12 16:54:10.479332\n"
     ]
    }
   ],
   "source": [
    "try:\n",
    "    print(f\"\\n---------------------------------------\\n\")\n",
    "    pandas_data = pd.DataFrame(exam_data, labels)\n",
    "    print(f\"The rows where the score is missing, i.e. is NaN : \\n{pandas_data[pandas_data.score.isnull()]}\")\n",
    "    print(f\"\\n---------------------------------------\\n\")\n",
    "except Exception as e:\n",
    "    print(f\"Error : {e}\")\n",
    "else:\n",
    "    print(f\"Executed successfully on {datetime.datetime.now()}\")"
   ]
  },
  {
   "cell_type": "markdown",
   "metadata": {},
   "source": [
    "Question 13\n",
    "> Write a Python program to select the rows where number of attempts in the examination is less than 2 and score greater than 15.\n",
    "> \n"
   ]
  },
  {
   "cell_type": "code",
   "execution_count": 38,
   "metadata": {},
   "outputs": [
    {
     "name": "stdout",
     "output_type": "stream",
     "text": [
      "\n",
      "---------------------------------------\n",
      "\n",
      "The rows where number of attempts in the examination is less than 2 and score greater than 15 : \n",
      "    name  score  attempts qualify\n",
      "j  Jonas   19.0         1     yes\n",
      "\n",
      "---------------------------------------\n",
      "\n",
      "Executed successfully on 2022-07-12 17:00:02.523999\n"
     ]
    },
    {
     "name": "stderr",
     "output_type": "stream",
     "text": [
      "<ipython-input-38-b4814b916b97>:4: UserWarning: Boolean Series key will be reindexed to match DataFrame index.\n",
      "  print(f\"The rows where number of attempts in the examination is less than 2 and score greater than 15 : \\n{pandas_data[pandas_data.score>15][pandas_data.attempts<2]}\")\n"
     ]
    }
   ],
   "source": [
    "try:\n",
    "    print(f\"\\n---------------------------------------\\n\")\n",
    "    pandas_data = pd.DataFrame(exam_data, labels)\n",
    "    print(f\"The rows where number of attempts in the examination is less than 2 and score greater than 15 : \\n{pandas_data[pandas_data.score>15][pandas_data.attempts<2]}\")\n",
    "    print(f\"\\n---------------------------------------\\n\")\n",
    "except Exception as e:\n",
    "    print(f\"Error : {e}\")\n",
    "else:\n",
    "    print(f\"Executed successfully on {datetime.datetime.now()}\")"
   ]
  },
  {
   "cell_type": "markdown",
   "metadata": {},
   "source": [
    "Question 14\n",
    "> Write a Python program to change the score in row 'd' to 11.5.\\\n",
    "> exam_data = {'name': ['Anastasia', 'Dima', 'Katherine', 'James', 'Emily', 'Michael', 'Matthew',\\\n",
    "> 'Laura', 'Kevin', 'Jonas'],\\\n",
    "> 'score': [12.5, 9, 16.5, np.nan, 9, 20, 14.5, np.nan, 8, 19],\\\n",
    "> 'attempts': [1, 3, 2, 3, 2, 3, 1, 1, 2, 1],\\\n",
    "> 'qualify': ['yes', 'no', 'yes', 'no', 'no', 'yes', 'yes', 'no', 'no', 'yes']}\\\n",
    "> labels = ['a', 'b', 'c', 'd', 'e', 'f', 'g', 'h', 'i', 'j']\n",
    "> \n"
   ]
  },
  {
   "cell_type": "code",
   "execution_count": 43,
   "metadata": {},
   "outputs": [
    {
     "name": "stdout",
     "output_type": "stream",
     "text": [
      "\n",
      "---------------------------------------\n",
      "\n",
      "Changed data : \n",
      "        name  score  attempts qualify\n",
      "a  Anastasia   12.5         1     yes\n",
      "b       Dima    9.0         3      no\n",
      "c  Katherine   16.5         2     yes\n",
      "d      James   11.5         3      no\n",
      "e      Emily    9.0         2      no\n",
      "f    Michael   20.0         3     yes\n",
      "g    Matthew   14.5         1     yes\n",
      "h      Laura    NaN         1      no\n",
      "i      Kevin    8.0         2      no\n",
      "j      Jonas   19.0         1     yes\n",
      "\n",
      "---------------------------------------\n",
      "\n",
      "Executed successfully on 2022-07-12 17:17:00.118427\n"
     ]
    },
    {
     "name": "stderr",
     "output_type": "stream",
     "text": [
      "<ipython-input-43-03faa32074cd>:4: SettingWithCopyWarning: \n",
      "A value is trying to be set on a copy of a slice from a DataFrame\n",
      "\n",
      "See the caveats in the documentation: https://pandas.pydata.org/pandas-docs/stable/user_guide/indexing.html#returning-a-view-versus-a-copy\n",
      "  pandas_data['score'][pandas_data.index == 'd'] = 11.5\n"
     ]
    }
   ],
   "source": [
    "try:\n",
    "    print(f\"\\n---------------------------------------\\n\")\n",
    "    pandas_data = pd.DataFrame(exam_data, labels)\n",
    "    pandas_data['score'][pandas_data.index == 'd'] = 11.5\n",
    "    print(f\"Changed data : \\n{pandas_data}\")\n",
    "    print(f\"\\n---------------------------------------\\n\")\n",
    "except Exception as e:\n",
    "    print(f\"Error : {e}\")\n",
    "else:\n",
    "    print(f\"Executed successfully on {datetime.datetime.now()}\")"
   ]
  },
  {
   "cell_type": "markdown",
   "metadata": {},
   "source": [
    "Question 15\n",
    "> Write a Python program to calculate the sum of the examination attempts by the students.\\\n",
    "> exam_data = {'name': ['Anastasia', 'Dima', 'Katherine', 'James', 'Emily', 'Michael', 'Matthew',\\\n",
    "> 'Laura', 'Kevin', 'Jonas'],\\\n",
    "> 'score': [12.5, 9, 16.5, np.nan, 9, 20, 14.5, np.nan, 8, 19],\\\n",
    "> 'attempts': [1, 3, 2, 3, 2, 3, 1, 1, 2, 1],\\\n",
    "> 'qualify': ['yes', 'no', 'yes', 'no', 'no', 'yes', 'yes', 'no', 'no', 'yes']}\\\n",
    "> labels = ['a', 'b', 'c', 'd', 'e', 'f', 'g', 'h', 'i', 'j']\n",
    "> \n"
   ]
  },
  {
   "cell_type": "code",
   "execution_count": 44,
   "metadata": {},
   "outputs": [
    {
     "name": "stdout",
     "output_type": "stream",
     "text": [
      "\n",
      "---------------------------------------\n",
      "\n",
      "The sum of the examination attempts by the students : \n",
      "19\n",
      "\n",
      "---------------------------------------\n",
      "\n",
      "Executed successfully on 2022-07-12 19:07:03.164308\n"
     ]
    }
   ],
   "source": [
    "try:\n",
    "    print(f\"\\n---------------------------------------\\n\")\n",
    "    pandas_data = pd.DataFrame(exam_data, labels)\n",
    "    temp = pandas_data['attempts']\n",
    "    print(f\"The sum of the examination attempts by the students : \\n{temp.sum()}\")\n",
    "    print(f\"\\n---------------------------------------\\n\")\n",
    "except Exception as e:\n",
    "    print(f\"Error : {e}\")\n",
    "else:\n",
    "    print(f\"Executed successfully on {datetime.datetime.now()}\")"
   ]
  },
  {
   "cell_type": "markdown",
   "metadata": {},
   "source": [
    "Question 16\n",
    "> Write a Python program to calculate the mean score for each different student in DataFrame.\\\n",
    "> exam_data = {'name': ['Anastasia', 'Dima', 'Katherine', 'James', 'Emily', 'Michael', 'Matthew',\\\n",
    "> 'Laura', 'Kevin', 'Jonas'],\\\n",
    "> 'score': [12.5, 9, 16.5, np.nan, 9, 20, 14.5, np.nan, 8, 19],\\\n",
    "> 'attempts': [1, 3, 2, 3, 2, 3, 1, 1, 2, 1],\\\n",
    "> 'qualify': ['yes', 'no', 'yes', 'no', 'no', 'yes', 'yes', 'no', 'no', 'yes']}\\\n",
    "> labels = ['a', 'b', 'c', 'd', 'e', 'f', 'g', 'h', 'i', 'j']\n",
    "> \n"
   ]
  },
  {
   "cell_type": "code",
   "execution_count": 50,
   "metadata": {},
   "outputs": [
    {
     "name": "stdout",
     "output_type": "stream",
     "text": [
      "\n",
      "---------------------------------------\n",
      "\n",
      "The mean score for each different student in DataFrame : \n",
      "13.5625\n",
      "\n",
      "---------------------------------------\n",
      "\n",
      "Executed successfully on 2022-07-12 19:18:34.001190\n"
     ]
    }
   ],
   "source": [
    "try:\n",
    "    print(f\"\\n---------------------------------------\\n\")\n",
    "    pandas_data = pd.DataFrame(exam_data, labels)\n",
    "    print(f\"The mean score for each different student in DataFrame : \\n{pandas_data['score'].mean()}\")\n",
    "    print(f\"\\n---------------------------------------\\n\")\n",
    "except Exception as e:\n",
    "    print(f\"Error : {e}\")\n",
    "else:\n",
    "    print(f\"Executed successfully on {datetime.datetime.now()}\")"
   ]
  },
  {
   "cell_type": "markdown",
   "metadata": {},
   "source": [
    "Question 17\n",
    "> Write a Python program to append a new row 'k' to data frame with given values for\\\n",
    "> each column. Now delete the new row and return the original DataFrame.\\\n",
    "> exam_data = {'name': ['Anastasia', 'Dima', 'Katherine', 'James', 'Emily', 'Michael', 'Matthew',\\\n",
    "> 'Laura', 'Kevin', 'Jonas'],\\\n",
    "> 'score': [12.5, 9, 16.5, np.nan, 9, 20, 14.5, np.nan, 8, 19],\\\n",
    "> 'attempts': [1, 3, 2, 3, 2, 3, 1, 1, 2, 1],\\\n",
    "> 'qualify': ['yes', 'no', 'yes', 'no', 'no', 'yes', 'yes', 'no', 'no', 'yes']}\\\n",
    "> labels = ['a', 'b', 'c', 'd', 'e', 'f', 'g', 'h', 'i', 'j']\\\n",
    "> Values for each column will be:\\\n",
    "> name : \"Suresh\", score: 15.5, attempts: 1, qualify: \"yes\", label: \"k\"\n",
    "> \n"
   ]
  },
  {
   "cell_type": "markdown",
   "metadata": {},
   "source": [
    "### Method 1"
   ]
  },
  {
   "cell_type": "code",
   "execution_count": 51,
   "metadata": {},
   "outputs": [
    {
     "name": "stdout",
     "output_type": "stream",
     "text": [
      "\n",
      "---------------------------------------\n",
      "\n",
      "The dataframe with appended value : \n",
      "        name  score  attempts qualify\n",
      "a  Anastasia   12.5         1     yes\n",
      "b       Dima    9.0         3      no\n",
      "c  Katherine   16.5         2     yes\n",
      "d      James    NaN         3      no\n",
      "e      Emily    9.0         2      no\n",
      "f    Michael   20.0         3     yes\n",
      "g    Matthew   14.5         1     yes\n",
      "h      Laura    NaN         1      no\n",
      "i      Kevin    8.0         2      no\n",
      "j      Jonas   19.0         1     yes\n",
      "k     Suresh   15.5         1     yes\n",
      "\n",
      "---------------------------------------\n",
      "\n",
      "The dataframe with appended value : \n",
      "        name  score  attempts qualify\n",
      "a  Anastasia   12.5         1     yes\n",
      "b       Dima    9.0         3      no\n",
      "c  Katherine   16.5         2     yes\n",
      "d      James    NaN         3      no\n",
      "e      Emily    9.0         2      no\n",
      "f    Michael   20.0         3     yes\n",
      "g    Matthew   14.5         1     yes\n",
      "h      Laura    NaN         1      no\n",
      "i      Kevin    8.0         2      no\n",
      "j      Jonas   19.0         1     yes\n",
      "\n",
      "---------------------------------------\n",
      "\n",
      "Executed successfully on 2022-07-12 19:33:08.439011\n"
     ]
    }
   ],
   "source": [
    "name_data = {\n",
    "            'name': \"Suresh\",\n",
    "            'score': 15.5,\n",
    "            'attempts': 1,\n",
    "            'qualify': 'yes'\n",
    "            }\n",
    "\n",
    "name_label = ['k']\n",
    "try:\n",
    "    print(f\"\\n---------------------------------------\\n\")\n",
    "    pandas_data = pd.DataFrame(exam_data, labels)\n",
    "    name_data = pd.DataFrame(name_data, name_label)\n",
    "    data = pd.concat([pandas_data,name_data])\n",
    "    print(f\"The dataframe with appended value : \\n{data}\")\n",
    "    data = data.drop('k')\n",
    "    print(f\"\\n---------------------------------------\\n\")\n",
    "    print(f\"The dataframe with appended value : \\n{data}\")\n",
    "    print(f\"\\n---------------------------------------\\n\")\n",
    "except Exception as e:\n",
    "    print(f\"Error : {e}\")\n",
    "else:\n",
    "    print(f\"Executed successfully on {datetime.datetime.now()}\")"
   ]
  },
  {
   "cell_type": "markdown",
   "metadata": {},
   "source": [
    "### Method 2"
   ]
  },
  {
   "cell_type": "code",
   "execution_count": 55,
   "metadata": {},
   "outputs": [
    {
     "name": "stdout",
     "output_type": "stream",
     "text": [
      "\n",
      "---------------------------------------\n",
      "\n",
      "The dataframe with appended value : \n",
      "        name  score  attempts qualify\n",
      "a  Anastasia   12.5         1     yes\n",
      "b       Dima    9.0         3      no\n",
      "c  Katherine   16.5         2     yes\n",
      "d      James    NaN         3      no\n",
      "e      Emily    9.0         2      no\n",
      "f    Michael   20.0         3     yes\n",
      "g    Matthew   14.5         1     yes\n",
      "h      Laura    NaN         1      no\n",
      "i      Kevin    8.0         2      no\n",
      "j      Jonas   19.0         1     yes\n",
      "k     Suresh   15.5         1     yes\n",
      "\n",
      "---------------------------------------\n",
      "\n",
      "The dataframe with deleted value : \n",
      "        name  score  attempts qualify\n",
      "a  Anastasia   12.5         1     yes\n",
      "b       Dima    9.0         3      no\n",
      "c  Katherine   16.5         2     yes\n",
      "d      James    NaN         3      no\n",
      "e      Emily    9.0         2      no\n",
      "f    Michael   20.0         3     yes\n",
      "g    Matthew   14.5         1     yes\n",
      "h      Laura    NaN         1      no\n",
      "i      Kevin    8.0         2      no\n",
      "j      Jonas   19.0         1     yes\n",
      "\n",
      "---------------------------------------\n",
      "\n",
      "Executed successfully on 2022-07-12 19:36:30.005221\n"
     ]
    }
   ],
   "source": [
    "try:\n",
    "    print(f\"\\n---------------------------------------\\n\")\n",
    "    pandas_data = pd.DataFrame(exam_data, labels)\n",
    "    pandas_data.loc['k'] = ['Suresh', 15.5, 1, 'yes']\n",
    "    print(f\"The dataframe with appended value : \\n{pandas_data}\")\n",
    "    pandas_data = pandas_data.drop('k')\n",
    "    print(f\"\\n---------------------------------------\\n\")\n",
    "    print(f\"The dataframe with deleted value : \\n{pandas_data}\")\n",
    "    print(f\"\\n---------------------------------------\\n\")\n",
    "except Exception as e:\n",
    "    print(f\"Error : {e}\")\n",
    "else:\n",
    "    print(f\"Executed successfully on {datetime.datetime.now()}\")"
   ]
  },
  {
   "cell_type": "markdown",
   "metadata": {},
   "source": [
    "Question 18\n",
    "> Write a Python program to sort the DataFrame first by 'name' in descending order, then by 'score' in ascending order.\\\n",
    "> exam_data = {'name': ['Anastasia', 'Dima', 'Katherine', 'James', 'Emily', 'Michael', 'Matthew',\\\n",
    "> 'Laura', 'Kevin', 'Jonas'],\\\n",
    "> 'score': [12.5, 9, 16.5, np.nan, 9, 20, 14.5, np.nan, 8, 19],\\\n",
    "> 'attempts': [1, 3, 2, 3, 2, 3, 1, 1, 2, 1],\\\n",
    "> 'qualify': ['yes', 'no', 'yes', 'no', 'no', 'yes', 'yes', 'no', 'no', 'yes']}\\\n",
    "> labels = ['a', 'b', 'c', 'd', 'e', 'f', 'g', 'h', 'i', 'j']\\\n",
    "> Values for each column will be:\\\n",
    "> name : \"Suresh\", score: 15.5, attempts: 1, qualify: \"yes\", label: \"k\"\n",
    "> \n"
   ]
  },
  {
   "cell_type": "code",
   "execution_count": 58,
   "metadata": {},
   "outputs": [
    {
     "name": "stdout",
     "output_type": "stream",
     "text": [
      "\n",
      "---------------------------------------\n",
      "\n",
      "The DataFrame sorted by 'name' in descending order : \n",
      "        name  score  attempts qualify\n",
      "k     Suresh   15.5         1     yes\n",
      "f    Michael   20.0         3     yes\n",
      "g    Matthew   14.5         1     yes\n",
      "h      Laura    NaN         1      no\n",
      "i      Kevin    8.0         2      no\n",
      "c  Katherine   16.5         2     yes\n",
      "j      Jonas   19.0         1     yes\n",
      "d      James    NaN         3      no\n",
      "e      Emily    9.0         2      no\n",
      "b       Dima    9.0         3      no\n",
      "a  Anastasia   12.5         1     yes\n",
      "\n",
      "---------------------------------------\n",
      "\n",
      "The DataFrame sorted by 'score' in ascending order : \n",
      "        name  score  attempts qualify\n",
      "i      Kevin    8.0         2      no\n",
      "b       Dima    9.0         3      no\n",
      "e      Emily    9.0         2      no\n",
      "a  Anastasia   12.5         1     yes\n",
      "g    Matthew   14.5         1     yes\n",
      "k     Suresh   15.5         1     yes\n",
      "c  Katherine   16.5         2     yes\n",
      "j      Jonas   19.0         1     yes\n",
      "f    Michael   20.0         3     yes\n",
      "d      James    NaN         3      no\n",
      "h      Laura    NaN         1      no\n",
      "\n",
      "---------------------------------------\n",
      "\n",
      "Executed successfully on 2022-07-12 19:57:42.111525\n"
     ]
    }
   ],
   "source": [
    "try:\n",
    "    print(f\"\\n---------------------------------------\\n\")\n",
    "    pandas_data = pd.DataFrame(exam_data, labels)\n",
    "    pandas_data.loc['k'] = ['Suresh', 15.5, 1, 'yes']\n",
    "    print(f\"The DataFrame sorted by 'name' in descending order : \\n{pandas_data.sort_values('name', ascending=False)}\")\n",
    "    print(f\"\\n---------------------------------------\\n\")\n",
    "    print(f\"The DataFrame sorted by 'score' in ascending order : \\n{pandas_data.sort_values('score')}\")\n",
    "    print(f\"\\n---------------------------------------\\n\")\n",
    "except Exception as e:\n",
    "    print(f\"Error : {e}\")\n",
    "else:\n",
    "    print(f\"Executed successfully on {datetime.datetime.now()}\")"
   ]
  },
  {
   "cell_type": "markdown",
   "metadata": {},
   "source": [
    "Question 19\n",
    "> Write a Python program to replace the 'qualify' column contains the values 'yes' and 'no' with True and False.\\\n",
    "> exam_data = {'name': ['Anastasia', 'Dima', 'Katherine', 'James', 'Emily', 'Michael', 'Matthew',\\\n",
    "> 'Laura', 'Kevin', 'Jonas'],\\\n",
    "> 'score': [12.5, 9, 16.5, np.nan, 9, 20, 14.5, np.nan, 8, 19],\\\n",
    "> 'attempts': [1, 3, 2, 3, 2, 3, 1, 1, 2, 1],\\\n",
    "> 'qualify': ['yes', 'no', 'yes', 'no', 'no', 'yes', 'yes', 'no', 'no', 'yes']}\\\n",
    "> labels = ['a', 'b', 'c', 'd', 'e', 'f', 'g', 'h', 'i', 'j']\n",
    "> \n"
   ]
  },
  {
   "cell_type": "code",
   "execution_count": 59,
   "metadata": {},
   "outputs": [
    {
     "name": "stdout",
     "output_type": "stream",
     "text": [
      "\n",
      "---------------------------------------\n",
      "\n",
      "The edited DataFrame : \n",
      "        name  score  attempts qualify\n",
      "a  Anastasia   12.5         1    True\n",
      "b       Dima    9.0         3   False\n",
      "c  Katherine   16.5         2    True\n",
      "d      James    NaN         3   False\n",
      "e      Emily    9.0         2   False\n",
      "f    Michael   20.0         3    True\n",
      "g    Matthew   14.5         1    True\n",
      "h      Laura    NaN         1   False\n",
      "i      Kevin    8.0         2   False\n",
      "j      Jonas   19.0         1    True\n",
      "\n",
      "---------------------------------------\n",
      "\n",
      "Executed successfully on 2022-07-12 19:57:49.691729\n"
     ]
    },
    {
     "name": "stderr",
     "output_type": "stream",
     "text": [
      "<ipython-input-59-0eabe05edb05>:4: SettingWithCopyWarning: \n",
      "A value is trying to be set on a copy of a slice from a DataFrame\n",
      "\n",
      "See the caveats in the documentation: https://pandas.pydata.org/pandas-docs/stable/user_guide/indexing.html#returning-a-view-versus-a-copy\n",
      "  pandas_data['qualify'][pandas_data.qualify == 'yes'] = True\n",
      "<ipython-input-59-0eabe05edb05>:5: SettingWithCopyWarning: \n",
      "A value is trying to be set on a copy of a slice from a DataFrame\n",
      "\n",
      "See the caveats in the documentation: https://pandas.pydata.org/pandas-docs/stable/user_guide/indexing.html#returning-a-view-versus-a-copy\n",
      "  pandas_data['qualify'][pandas_data.qualify == 'no'] = False\n"
     ]
    }
   ],
   "source": [
    "try:\n",
    "    print(f\"\\n---------------------------------------\\n\")\n",
    "    pandas_data = pd.DataFrame(exam_data, labels)\n",
    "    pandas_data['qualify'][pandas_data.qualify == 'yes'] = True\n",
    "    pandas_data['qualify'][pandas_data.qualify == 'no'] = False\n",
    "    print(f\"The edited DataFrame : \\n{pandas_data}\")\n",
    "    print(f\"\\n---------------------------------------\\n\")\n",
    "except Exception as e:\n",
    "    print(f\"Error : {e}\")\n",
    "else:\n",
    "    print(f\"Executed successfully on {datetime.datetime.now()}\")"
   ]
  },
  {
   "cell_type": "markdown",
   "metadata": {},
   "source": [
    "Question 20\n",
    "> Write a Python program to delete the 'attempts' column from the DataFrame.\\\n",
    "> exam_data = {'name': ['Anastasia', 'Dima', 'Katherine', 'James', 'Emily', 'Michael', 'Matthew',\\\n",
    "> 'Laura', 'Kevin', 'Jonas'],\\\n",
    "> 'score': [12.5, 9, 16.5, np.nan, 9, 20, 14.5, np.nan, 8, 19],\\\n",
    "> 'attempts': [1, 3, 2, 3, 2, 3, 1, 1, 2, 1],\\\n",
    "> 'qualify': ['yes', 'no', 'yes', 'no', 'no', 'yes', 'yes', 'no', 'no', 'yes']}\\\n",
    "> labels = ['a', 'b', 'c', 'd', 'e', 'f', 'g', 'h', 'i', 'j']\n",
    "> \n"
   ]
  },
  {
   "cell_type": "code",
   "execution_count": 60,
   "metadata": {},
   "outputs": [
    {
     "name": "stdout",
     "output_type": "stream",
     "text": [
      "\n",
      "---------------------------------------\n",
      "\n",
      "The edited DataFrame : \n",
      "        name  score qualify\n",
      "a  Anastasia   12.5     yes\n",
      "b       Dima    9.0      no\n",
      "c  Katherine   16.5     yes\n",
      "d      James    NaN      no\n",
      "e      Emily    9.0      no\n",
      "f    Michael   20.0     yes\n",
      "g    Matthew   14.5     yes\n",
      "h      Laura    NaN      no\n",
      "i      Kevin    8.0      no\n",
      "j      Jonas   19.0     yes\n",
      "\n",
      "---------------------------------------\n",
      "\n",
      "Executed successfully on 2022-07-12 20:04:13.194260\n"
     ]
    }
   ],
   "source": [
    "try:\n",
    "    print(f\"\\n---------------------------------------\\n\")\n",
    "    pandas_data = pd.DataFrame(exam_data, labels)\n",
    "    pandas_data = pandas_data.drop('attempts', axis=1)\n",
    "    print(f\"The edited DataFrame : \\n{pandas_data}\")\n",
    "    print(f\"\\n---------------------------------------\\n\")\n",
    "except Exception as e:\n",
    "    print(f\"Error : {e}\")\n",
    "else:\n",
    "    print(f\"Executed successfully on {datetime.datetime.now()}\")"
   ]
  },
  {
   "cell_type": "markdown",
   "metadata": {},
   "source": [
    "Question 21\n",
    "> Write a Python program to insert a new column in existing DataFrame.\\\n",
    "> exam_data = {'name': ['Anastasia', 'Dima', 'Katherine', 'James', 'Emily', 'Michael', 'Matthew',\\\n",
    "> 'Laura', 'Kevin', 'Jonas'],\\\n",
    "> 'score': [12.5, 9, 16.5, np.nan, 9, 20, 14.5, np.nan, 8, 19],\\\n",
    "> 'attempts': [1, 3, 2, 3, 2, 3, 1, 1, 2, 1],\\\n",
    "> 'qualify': ['yes', 'no', 'yes', 'no', 'no', 'yes', 'yes', 'no', 'no', 'yes']}\\\n",
    "> labels = ['a', 'b', 'c', 'd', 'e', 'f', 'g', 'h', 'i', 'j']\n",
    "> \n"
   ]
  },
  {
   "cell_type": "code",
   "execution_count": 61,
   "metadata": {},
   "outputs": [
    {
     "name": "stdout",
     "output_type": "stream",
     "text": [
      "\n",
      "---------------------------------------\n",
      "\n",
      "The edited DataFrame : \n",
      "        name  score  attempts qualify  age\n",
      "a  Anastasia   12.5         1     yes   23\n",
      "b       Dima    9.0         3      no   24\n",
      "c  Katherine   16.5         2     yes   31\n",
      "d      James    NaN         3      no   32\n",
      "e      Emily    9.0         2      no   26\n",
      "f    Michael   20.0         3     yes   21\n",
      "g    Matthew   14.5         1     yes   34\n",
      "h      Laura    NaN         1      no   35\n",
      "i      Kevin    8.0         2      no   36\n",
      "j      Jonas   19.0         1     yes   28\n",
      "\n",
      "---------------------------------------\n",
      "\n",
      "Executed successfully on 2022-07-12 20:07:06.703427\n"
     ]
    }
   ],
   "source": [
    "try:\n",
    "    print(f\"\\n---------------------------------------\\n\")\n",
    "    pandas_data = pd.DataFrame(exam_data, labels)\n",
    "    pandas_data['age'] = [23, 24 ,31, 32, 26 ,21, 34, 35, 36, 28]\n",
    "    print(f\"The edited DataFrame : \\n{pandas_data}\")\n",
    "    print(f\"\\n---------------------------------------\\n\")\n",
    "except Exception as e:\n",
    "    print(f\"Error : {e}\")\n",
    "else:\n",
    "    print(f\"Executed successfully on {datetime.datetime.now()}\")"
   ]
  },
  {
   "cell_type": "markdown",
   "metadata": {},
   "source": [
    "Question 22\n",
    "> Write a Python program to iterate over rows in a DataFrame.\n",
    "> \n"
   ]
  },
  {
   "cell_type": "code",
   "execution_count": 62,
   "metadata": {},
   "outputs": [
    {
     "name": "stdout",
     "output_type": "stream",
     "text": [
      "\n",
      "---------------------------------------\n",
      "\n",
      "Anastasia : 12.5\n",
      "Dima : 9.0\n",
      "Katherine : 16.5\n",
      "James : nan\n",
      "Emily : 9.0\n",
      "Michael : 20.0\n",
      "Matthew : 14.5\n",
      "Laura : nan\n",
      "Kevin : 8.0\n",
      "Jonas : 19.0\n",
      "\n",
      "---------------------------------------\n",
      "\n",
      "Executed successfully on 2022-07-12 20:13:23.376295\n"
     ]
    }
   ],
   "source": [
    "try:\n",
    "    print(f\"\\n---------------------------------------\\n\")\n",
    "    pandas_data = pd.DataFrame(exam_data, labels)\n",
    "    for i, r in pandas_data.iterrows():     # Iterate over DataFrame rows as (index, Series) pairs.\n",
    "        print(f\"{r['name']} : {r['score']}\")\n",
    "    print(f\"\\n---------------------------------------\\n\")\n",
    "except Exception as e:\n",
    "    print(f\"Error : {e}\")\n",
    "else:\n",
    "    print(f\"Executed successfully on {datetime.datetime.now()}\")"
   ]
  },
  {
   "cell_type": "markdown",
   "metadata": {},
   "source": [
    "Question 23\n",
    "> Write a Python program to get list from DataFrame column headers.\\\n",
    "> Sample data:\\\n",
    "> exam_data = {'name': ['Anastasia', 'Dima', 'Katherine', 'James', 'Emily', 'Michael', 'Matthew',\\\n",
    "> 'Laura', 'Kevin', 'Jonas'],\\\n",
    "> 'score': [12.5, 9, 16.5, np.nan, 9, 20, 14.5, np.nan, 8, 19],\\\n",
    "> 'attempts': [1, 3, 2, 3, 2, 3, 1, 1, 2, 1],\\\n",
    "> 'qualify': ['yes', 'no', 'yes', 'no', 'no', 'yes', 'yes', 'no', 'no', 'yes']}\\\n",
    "> labels = ['a', 'b', 'c', 'd', 'e', 'f', 'g', 'h', 'i', 'j']"
   ]
  },
  {
   "cell_type": "code",
   "execution_count": 64,
   "metadata": {},
   "outputs": [
    {
     "name": "stdout",
     "output_type": "stream",
     "text": [
      "\n",
      "---------------------------------------\n",
      "\n",
      "The list from DataFrame column headers : \n",
      "['name', 'score', 'attempts', 'qualify']\n",
      "The list from DataFrame column index : \n",
      "['a', 'b', 'c', 'd', 'e', 'f', 'g', 'h', 'i', 'j']\n",
      "\n",
      "---------------------------------------\n",
      "\n",
      "Executed successfully on 2022-07-12 20:18:13.536102\n"
     ]
    }
   ],
   "source": [
    "try:\n",
    "    print(f\"\\n---------------------------------------\\n\")\n",
    "    pandas_data = pd.DataFrame(exam_data, labels)\n",
    "    print(f\"The list from DataFrame column headers : \\n{pandas_data.columns.to_list()}\")\n",
    "    print(f\"The list from DataFrame column index : \\n{pandas_data.index.to_list()}\")\n",
    "    print(f\"\\n---------------------------------------\\n\")\n",
    "except Exception as e:\n",
    "    print(f\"Error : {e}\")\n",
    "else:\n",
    "    print(f\"Executed successfully on {datetime.datetime.now()}\")"
   ]
  }
 ],
 "metadata": {
  "kernelspec": {
   "display_name": "Python 3.8.5 ('base')",
   "language": "python",
   "name": "python3"
  },
  "language_info": {
   "codemirror_mode": {
    "name": "ipython",
    "version": 3
   },
   "file_extension": ".py",
   "mimetype": "text/x-python",
   "name": "python",
   "nbconvert_exporter": "python",
   "pygments_lexer": "ipython3",
   "version": "3.8.5"
  },
  "orig_nbformat": 4,
  "vscode": {
   "interpreter": {
    "hash": "44cefc941ed9d6b5484564532b71db757c2e46d93ba3e0428c9048b32b8e1c59"
   }
  }
 },
 "nbformat": 4,
 "nbformat_minor": 2
}
